{
 "cells": [
  {
   "cell_type": "markdown",
   "id": "358e4f2d-98fe-4658-840b-e19e9dc00c75",
   "metadata": {},
   "source": [
    "# All elements Zero"
   ]
  },
  {
   "cell_type": "code",
   "execution_count": 8,
   "id": "d097f728-98a4-4f54-9031-16e0c5fddf90",
   "metadata": {},
   "outputs": [
    {
     "name": "stdout",
     "output_type": "stream",
     "text": [
      "[0. 0. 0. 0.]\n",
      "\n",
      "[[0. 0. 0. 0.]\n",
      " [0. 0. 0. 0.]\n",
      " [0. 0. 0. 0.]]\n"
     ]
    }
   ],
   "source": [
    "import numpy as np\n",
    "\n",
    "ar_zero = np.zeros(4) # 1D \n",
    "ar_zero1 = np.zeros((3,4))  #2D\n",
    "\n",
    "print(ar_zero)\n",
    "print(\"\")\n",
    "print(ar_zero1)"
   ]
  },
  {
   "cell_type": "markdown",
   "id": "6b4b7ae9-cdfd-4edd-aead-1b824d463436",
   "metadata": {},
   "source": [
    "# All elements Ones"
   ]
  },
  {
   "cell_type": "code",
   "execution_count": 11,
   "id": "44adb970-51b9-4b71-a826-a330b26c1ada",
   "metadata": {},
   "outputs": [
    {
     "name": "stdout",
     "output_type": "stream",
     "text": [
      "[1. 1. 1. 1.]\n"
     ]
    }
   ],
   "source": [
    "arr_one = np.ones(4) # 1D\n",
    "\n",
    "print(arr_one)"
   ]
  },
  {
   "cell_type": "markdown",
   "id": "3fe2915e-463b-4c52-90ff-fe59e1244f83",
   "metadata": {},
   "source": [
    "# How to create an Empty array?"
   ]
  },
  {
   "cell_type": "code",
   "execution_count": 15,
   "id": "80311a1c-d492-438d-a818-d51089cea69f",
   "metadata": {},
   "outputs": [
    {
     "name": "stdout",
     "output_type": "stream",
     "text": [
      "[1. 1. 1. 1.]\n"
     ]
    }
   ],
   "source": [
    "arr_em = np.empty(4)\n",
    "print(arr_em)"
   ]
  },
  {
   "cell_type": "markdown",
   "id": "8ca4f789-34b3-4182-8ae8-7b692c105951",
   "metadata": {},
   "source": [
    "# An array with a range of elements"
   ]
  },
  {
   "cell_type": "code",
   "execution_count": 18,
   "id": "b6425b6d-92fb-4bbd-ba9e-e7e6c7912a1d",
   "metadata": {},
   "outputs": [
    {
     "name": "stdout",
     "output_type": "stream",
     "text": [
      "[0 1 2 3]\n"
     ]
    }
   ],
   "source": [
    "arr_rn = np.arange(4)\n",
    "print(arr_rn)"
   ]
  },
  {
   "cell_type": "markdown",
   "id": "1e0c316c-e4aa-4cf8-9c74-05c7871b8b10",
   "metadata": {},
   "source": [
    "# Array diagonal element filled with 1's"
   ]
  },
  {
   "cell_type": "code",
   "execution_count": 23,
   "id": "d7a7c5b4-4e56-4132-9213-a9a3d892402c",
   "metadata": {},
   "outputs": [
    {
     "name": "stdout",
     "output_type": "stream",
     "text": [
      "[[1. 0. 0.]\n",
      " [0. 1. 0.]\n",
      " [0. 0. 1.]]\n"
     ]
    }
   ],
   "source": [
    "arr_dia = np.eye(3) #3x3 matrix\n",
    "print(arr_dia)"
   ]
  },
  {
   "cell_type": "code",
   "execution_count": 25,
   "id": "31867d20-bb91-4bfc-88fd-26984bdf3c0f",
   "metadata": {},
   "outputs": [
    {
     "name": "stdout",
     "output_type": "stream",
     "text": [
      "[[1. 0. 0. 0. 0.]\n",
      " [0. 1. 0. 0. 0.]\n",
      " [0. 0. 1. 0. 0.]]\n"
     ]
    }
   ],
   "source": [
    "arr_dia = np.eye(3,5) #3x5 matrix\n",
    "print(arr_dia)"
   ]
  },
  {
   "cell_type": "markdown",
   "id": "ac07da5e-6e77-44ee-8cfa-911dea119175",
   "metadata": {},
   "source": [
    "# Create an array with values that are spaced linearly in a specified interval"
   ]
  },
  {
   "cell_type": "code",
   "execution_count": 32,
   "id": "ec250a5b-53d9-45d5-a855-dab8ac105a1d",
   "metadata": {},
   "outputs": [
    {
     "name": "stdout",
     "output_type": "stream",
     "text": [
      "[ 0.  5. 10. 15. 20.]\n"
     ]
    }
   ],
   "source": [
    "arr_lin = np.linspace(0, 20, num=5)\n",
    "print(arr_lin)"
   ]
  },
  {
   "cell_type": "code",
   "execution_count": null,
   "id": "77b7d6ea-4f5a-4242-83d6-f7dfc246db32",
   "metadata": {},
   "outputs": [],
   "source": []
  }
 ],
 "metadata": {
  "kernelspec": {
   "display_name": "Python [conda env:base] *",
   "language": "python",
   "name": "conda-base-py"
  },
  "language_info": {
   "codemirror_mode": {
    "name": "ipython",
    "version": 3
   },
   "file_extension": ".py",
   "mimetype": "text/x-python",
   "name": "python",
   "nbconvert_exporter": "python",
   "pygments_lexer": "ipython3",
   "version": "3.12.7"
  }
 },
 "nbformat": 4,
 "nbformat_minor": 5
}
