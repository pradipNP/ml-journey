{
 "cells": [
  {
   "cell_type": "markdown",
   "id": "637cf772-01bf-47b9-a59f-7d03d3f7258c",
   "metadata": {},
   "source": [
    "## Difference between CSV and XLS/XLSX\n",
    "\n",
    "| Feature              | **CSV (.csv)**                         | **Excel (.xls / .xlsx)**                  |\n",
    "|----------------------|----------------------------------------|-------------------------------------------|\n",
    "| **Format type**      | Plain text file (comma-separated)      | Binary / XML-based proprietary format      |\n",
    "| **Readability**      | Human-readable (any text editor)       | Not human-readable (needs Excel/reader)    |\n",
    "| **File size**        | Smaller (only raw data)                | Larger (stores formatting, styles, etc.)   |\n",
    "| **Data types**       | Only raw text & numbers                | Supports text, numbers, formulas, dates, charts |\n",
    "| **Multi-sheet**      | ❌ No (single sheet only)               | ✅ Yes (multiple sheets supported)         |\n",
    "| **Compatibility**    | Universal (works everywhere)           | Needs Excel/Google Sheets/LibreOffice      |\n",
    "| **Speed**            | Faster (lightweight)                   | Slower (complex structure)                 |\n",
    "| **Use case**         | Data storage & transfer                | Data analysis & presentation               |\n",
    "\n",
    "**Note**  \n",
    "- Use **CSV** when you want lightweight, universal, raw data storage.  \n",
    "- Use **XLS/XLSX** when you need formatting, multiple sheets, formulas, or charts.\n"
   ]
  },
  {
   "cell_type": "markdown",
   "id": "8084b83b-af10-4b64-b066-4d35615a8675",
   "metadata": {},
   "source": [
    "# Write CSV"
   ]
  },
  {
   "cell_type": "code",
   "execution_count": 5,
   "id": "1e2b724f-5ad2-4021-b026-06bac1237ab0",
   "metadata": {},
   "outputs": [
    {
     "name": "stdout",
     "output_type": "stream",
     "text": [
      "   a  s  d\n",
      "0  1  1  1\n",
      "1  2  2  2\n",
      "2  3  3  3\n",
      "3  4  4  4\n",
      "4  5  5  5\n",
      "5  6  6  6\n"
     ]
    }
   ],
   "source": [
    "import pandas as pd\n",
    "\n",
    "dis = {\"a\":[1,2,3,4,5,6], \"s\":[1,2,3,4,5,6], \"d\":[1,2,3,4,5,6]}\n",
    "\n",
    "d = pd.DataFrame(dis)\n",
    "\n",
    "print(d)"
   ]
  },
  {
   "cell_type": "code",
   "execution_count": 37,
   "id": "ec5e4985-044d-443d-8bf8-a9ad1d917e49",
   "metadata": {},
   "outputs": [],
   "source": [
    "# To create CSV file of the above dataframe\n",
    "\n",
    "d.to_csv(\"CSV_files/5Test_new.csv\") #CSV file created with index number\n"
   ]
  },
  {
   "cell_type": "code",
   "execution_count": 39,
   "id": "5bde5fd5-27a5-442a-aa44-813315a2501c",
   "metadata": {},
   "outputs": [],
   "source": [
    "# To create CSV file without index number\n",
    "\n",
    "d.to_csv(\"CSV_files/5Test_new_Noindex.csv\", index=False)"
   ]
  },
  {
   "cell_type": "code",
   "execution_count": 41,
   "id": "490e0815-fa92-4b18-b52d-4a97f7302d46",
   "metadata": {},
   "outputs": [],
   "source": [
    "# To change the head data\n",
    "\n",
    "d.to_csv(\"CSV_files/5Test_new_HeaderChange.csv\", index=False, header=[\"A\", \"B\", \"C\"])"
   ]
  },
  {
   "cell_type": "code",
   "execution_count": null,
   "id": "1b58b10b-901e-4bc8-97bc-bebc30100916",
   "metadata": {},
   "outputs": [],
   "source": []
  }
 ],
 "metadata": {
  "kernelspec": {
   "display_name": "Python [conda env:base] *",
   "language": "python",
   "name": "conda-base-py"
  },
  "language_info": {
   "codemirror_mode": {
    "name": "ipython",
    "version": 3
   },
   "file_extension": ".py",
   "mimetype": "text/x-python",
   "name": "python",
   "nbconvert_exporter": "python",
   "pygments_lexer": "ipython3",
   "version": "3.12.7"
  }
 },
 "nbformat": 4,
 "nbformat_minor": 5
}
