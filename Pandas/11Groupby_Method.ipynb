{
 "cells": [
  {
   "cell_type": "markdown",
   "id": "e3a1298b-18c3-495b-a4de-7aee4277ae0f",
   "metadata": {},
   "source": [
    "# Groupby in Pandas\n",
    "- The groupby() method in Pandas is a powerful function used for splitting a DataFrame into groups based on specified criteria, applying a function to each group, and then combining the results. This follows the \"split-apply-combine\" strategy and is essential for data analysis and manipulation in Python."
   ]
  },
  {
   "cell_type": "code",
   "execution_count": 3,
   "id": "330e6e71-8b18-4a17-9908-1a261076fcec",
   "metadata": {},
   "outputs": [
    {
     "data": {
      "text/html": [
       "<div>\n",
       "<style scoped>\n",
       "    .dataframe tbody tr th:only-of-type {\n",
       "        vertical-align: middle;\n",
       "    }\n",
       "\n",
       "    .dataframe tbody tr th {\n",
       "        vertical-align: top;\n",
       "    }\n",
       "\n",
       "    .dataframe thead th {\n",
       "        text-align: right;\n",
       "    }\n",
       "</style>\n",
       "<table border=\"1\" class=\"dataframe\">\n",
       "  <thead>\n",
       "    <tr style=\"text-align: right;\">\n",
       "      <th></th>\n",
       "      <th>name</th>\n",
       "      <th>S_1</th>\n",
       "      <th>S_2</th>\n",
       "    </tr>\n",
       "  </thead>\n",
       "  <tbody>\n",
       "    <tr>\n",
       "      <th>0</th>\n",
       "      <td>a</td>\n",
       "      <td>12</td>\n",
       "      <td>23</td>\n",
       "    </tr>\n",
       "    <tr>\n",
       "      <th>1</th>\n",
       "      <td>b</td>\n",
       "      <td>13</td>\n",
       "      <td>24</td>\n",
       "    </tr>\n",
       "    <tr>\n",
       "      <th>2</th>\n",
       "      <td>c</td>\n",
       "      <td>14</td>\n",
       "      <td>25</td>\n",
       "    </tr>\n",
       "    <tr>\n",
       "      <th>3</th>\n",
       "      <td>d</td>\n",
       "      <td>12</td>\n",
       "      <td>26</td>\n",
       "    </tr>\n",
       "    <tr>\n",
       "      <th>4</th>\n",
       "      <td>a</td>\n",
       "      <td>13</td>\n",
       "      <td>27</td>\n",
       "    </tr>\n",
       "    <tr>\n",
       "      <th>5</th>\n",
       "      <td>b</td>\n",
       "      <td>14</td>\n",
       "      <td>28</td>\n",
       "    </tr>\n",
       "    <tr>\n",
       "      <th>6</th>\n",
       "      <td>a</td>\n",
       "      <td>15</td>\n",
       "      <td>29</td>\n",
       "    </tr>\n",
       "    <tr>\n",
       "      <th>7</th>\n",
       "      <td>b</td>\n",
       "      <td>23</td>\n",
       "      <td>30</td>\n",
       "    </tr>\n",
       "    <tr>\n",
       "      <th>8</th>\n",
       "      <td>a</td>\n",
       "      <td>25</td>\n",
       "      <td>25</td>\n",
       "    </tr>\n",
       "    <tr>\n",
       "      <th>9</th>\n",
       "      <td>c</td>\n",
       "      <td>16</td>\n",
       "      <td>34</td>\n",
       "    </tr>\n",
       "    <tr>\n",
       "      <th>10</th>\n",
       "      <td>c</td>\n",
       "      <td>10</td>\n",
       "      <td>35</td>\n",
       "    </tr>\n",
       "    <tr>\n",
       "      <th>11</th>\n",
       "      <td>d</td>\n",
       "      <td>34</td>\n",
       "      <td>56</td>\n",
       "    </tr>\n",
       "  </tbody>\n",
       "</table>\n",
       "</div>"
      ],
      "text/plain": [
       "   name  S_1  S_2\n",
       "0     a   12   23\n",
       "1     b   13   24\n",
       "2     c   14   25\n",
       "3     d   12   26\n",
       "4     a   13   27\n",
       "5     b   14   28\n",
       "6     a   15   29\n",
       "7     b   23   30\n",
       "8     a   25   25\n",
       "9     c   16   34\n",
       "10    c   10   35\n",
       "11    d   34   56"
      ]
     },
     "execution_count": 3,
     "metadata": {},
     "output_type": "execute_result"
    }
   ],
   "source": [
    "import pandas as pd\n",
    "\n",
    "var = pd.DataFrame({\"name\": [\"a\",\"b\",\"c\",\"d\",\"a\",\"b\",\"a\",\"b\",\"a\",\"c\",\"c\",\"d\"],\n",
    "                   \"S_1\": [12,13,14,12,13,14,15,23,25,16,10,34],\n",
    "                   \"S_2\": [23,24,25,26,27,28,29,30,25,34,35,56]})\n",
    "var"
   ]
  },
  {
   "cell_type": "markdown",
   "id": "b063a5d4-d787-40b1-98e2-6ca5520edef7",
   "metadata": {},
   "source": [
    "## Groupby:- Make group i.e. The data of a is one side, b is another side like this"
   ]
  },
  {
   "cell_type": "code",
   "execution_count": 10,
   "id": "fc375b88-5cf5-4344-b595-f15c6fe65a20",
   "metadata": {},
   "outputs": [
    {
     "data": {
      "text/plain": [
       "<pandas.core.groupby.generic.DataFrameGroupBy object at 0x0000023144876000>"
      ]
     },
     "execution_count": 10,
     "metadata": {},
     "output_type": "execute_result"
    }
   ],
   "source": [
    "var_new = var.groupby(\"name\") \n",
    "var_new"
   ]
  },
  {
   "cell_type": "code",
   "execution_count": 16,
   "id": "4c3dde00-b41e-4748-add7-3e3232c0eb9c",
   "metadata": {},
   "outputs": [
    {
     "name": "stdout",
     "output_type": "stream",
     "text": [
      "a\n",
      "  name  S_1  S_2\n",
      "0    a   12   23\n",
      "4    a   13   27\n",
      "6    a   15   29\n",
      "8    a   25   25\n",
      "\n",
      "b\n",
      "  name  S_1  S_2\n",
      "1    b   13   24\n",
      "5    b   14   28\n",
      "7    b   23   30\n",
      "\n",
      "c\n",
      "   name  S_1  S_2\n",
      "2     c   14   25\n",
      "9     c   16   34\n",
      "10    c   10   35\n",
      "\n",
      "d\n",
      "   name  S_1  S_2\n",
      "3     d   12   26\n",
      "11    d   34   56\n",
      "\n"
     ]
    }
   ],
   "source": [
    "# for showing the data of above stored \n",
    "for x,y in var_new:\n",
    "    print(x)\n",
    "    print(y)\n",
    "    print()"
   ]
  },
  {
   "cell_type": "markdown",
   "id": "37964d2f-4421-469d-9352-f235ba901b87",
   "metadata": {},
   "source": [
    "## If we want only 1 particular group,\n",
    "- get_group() is used"
   ]
  },
  {
   "cell_type": "code",
   "execution_count": 26,
   "id": "ecf56b5c-1520-4720-afc2-14ded6efe4e4",
   "metadata": {},
   "outputs": [
    {
     "data": {
      "text/html": [
       "<div>\n",
       "<style scoped>\n",
       "    .dataframe tbody tr th:only-of-type {\n",
       "        vertical-align: middle;\n",
       "    }\n",
       "\n",
       "    .dataframe tbody tr th {\n",
       "        vertical-align: top;\n",
       "    }\n",
       "\n",
       "    .dataframe thead th {\n",
       "        text-align: right;\n",
       "    }\n",
       "</style>\n",
       "<table border=\"1\" class=\"dataframe\">\n",
       "  <thead>\n",
       "    <tr style=\"text-align: right;\">\n",
       "      <th></th>\n",
       "      <th>name</th>\n",
       "      <th>S_1</th>\n",
       "      <th>S_2</th>\n",
       "    </tr>\n",
       "  </thead>\n",
       "  <tbody>\n",
       "    <tr>\n",
       "      <th>0</th>\n",
       "      <td>a</td>\n",
       "      <td>12</td>\n",
       "      <td>23</td>\n",
       "    </tr>\n",
       "    <tr>\n",
       "      <th>4</th>\n",
       "      <td>a</td>\n",
       "      <td>13</td>\n",
       "      <td>27</td>\n",
       "    </tr>\n",
       "    <tr>\n",
       "      <th>6</th>\n",
       "      <td>a</td>\n",
       "      <td>15</td>\n",
       "      <td>29</td>\n",
       "    </tr>\n",
       "    <tr>\n",
       "      <th>8</th>\n",
       "      <td>a</td>\n",
       "      <td>25</td>\n",
       "      <td>25</td>\n",
       "    </tr>\n",
       "  </tbody>\n",
       "</table>\n",
       "</div>"
      ],
      "text/plain": [
       "  name  S_1  S_2\n",
       "0    a   12   23\n",
       "4    a   13   27\n",
       "6    a   15   29\n",
       "8    a   25   25"
      ]
     },
     "execution_count": 26,
     "metadata": {},
     "output_type": "execute_result"
    }
   ],
   "source": [
    "var_new.get_group(\"a\")"
   ]
  },
  {
   "cell_type": "markdown",
   "id": "2d4136db-766a-44d5-97b0-4860e5e783b9",
   "metadata": {},
   "source": [
    "## To find maximum, minimum, mean value,"
   ]
  },
  {
   "cell_type": "code",
   "execution_count": 36,
   "id": "3b287ffe-3a16-4db9-86e7-49850136fa82",
   "metadata": {},
   "outputs": [
    {
     "data": {
      "text/html": [
       "<div>\n",
       "<style scoped>\n",
       "    .dataframe tbody tr th:only-of-type {\n",
       "        vertical-align: middle;\n",
       "    }\n",
       "\n",
       "    .dataframe tbody tr th {\n",
       "        vertical-align: top;\n",
       "    }\n",
       "\n",
       "    .dataframe thead th {\n",
       "        text-align: right;\n",
       "    }\n",
       "</style>\n",
       "<table border=\"1\" class=\"dataframe\">\n",
       "  <thead>\n",
       "    <tr style=\"text-align: right;\">\n",
       "      <th></th>\n",
       "      <th>S_1</th>\n",
       "      <th>S_2</th>\n",
       "    </tr>\n",
       "    <tr>\n",
       "      <th>name</th>\n",
       "      <th></th>\n",
       "      <th></th>\n",
       "    </tr>\n",
       "  </thead>\n",
       "  <tbody>\n",
       "    <tr>\n",
       "      <th>a</th>\n",
       "      <td>12</td>\n",
       "      <td>23</td>\n",
       "    </tr>\n",
       "    <tr>\n",
       "      <th>b</th>\n",
       "      <td>13</td>\n",
       "      <td>24</td>\n",
       "    </tr>\n",
       "    <tr>\n",
       "      <th>c</th>\n",
       "      <td>10</td>\n",
       "      <td>25</td>\n",
       "    </tr>\n",
       "    <tr>\n",
       "      <th>d</th>\n",
       "      <td>12</td>\n",
       "      <td>26</td>\n",
       "    </tr>\n",
       "  </tbody>\n",
       "</table>\n",
       "</div>"
      ],
      "text/plain": [
       "      S_1  S_2\n",
       "name          \n",
       "a      12   23\n",
       "b      13   24\n",
       "c      10   25\n",
       "d      12   26"
      ]
     },
     "execution_count": 36,
     "metadata": {},
     "output_type": "execute_result"
    }
   ],
   "source": [
    "var_new.min()"
   ]
  },
  {
   "cell_type": "code",
   "execution_count": 38,
   "id": "63cbb586-77e7-485c-b3ec-8bd127427296",
   "metadata": {},
   "outputs": [
    {
     "data": {
      "text/html": [
       "<div>\n",
       "<style scoped>\n",
       "    .dataframe tbody tr th:only-of-type {\n",
       "        vertical-align: middle;\n",
       "    }\n",
       "\n",
       "    .dataframe tbody tr th {\n",
       "        vertical-align: top;\n",
       "    }\n",
       "\n",
       "    .dataframe thead th {\n",
       "        text-align: right;\n",
       "    }\n",
       "</style>\n",
       "<table border=\"1\" class=\"dataframe\">\n",
       "  <thead>\n",
       "    <tr style=\"text-align: right;\">\n",
       "      <th></th>\n",
       "      <th>S_1</th>\n",
       "      <th>S_2</th>\n",
       "    </tr>\n",
       "    <tr>\n",
       "      <th>name</th>\n",
       "      <th></th>\n",
       "      <th></th>\n",
       "    </tr>\n",
       "  </thead>\n",
       "  <tbody>\n",
       "    <tr>\n",
       "      <th>a</th>\n",
       "      <td>25</td>\n",
       "      <td>29</td>\n",
       "    </tr>\n",
       "    <tr>\n",
       "      <th>b</th>\n",
       "      <td>23</td>\n",
       "      <td>30</td>\n",
       "    </tr>\n",
       "    <tr>\n",
       "      <th>c</th>\n",
       "      <td>16</td>\n",
       "      <td>35</td>\n",
       "    </tr>\n",
       "    <tr>\n",
       "      <th>d</th>\n",
       "      <td>34</td>\n",
       "      <td>56</td>\n",
       "    </tr>\n",
       "  </tbody>\n",
       "</table>\n",
       "</div>"
      ],
      "text/plain": [
       "      S_1  S_2\n",
       "name          \n",
       "a      25   29\n",
       "b      23   30\n",
       "c      16   35\n",
       "d      34   56"
      ]
     },
     "execution_count": 38,
     "metadata": {},
     "output_type": "execute_result"
    }
   ],
   "source": [
    "var_new.max()"
   ]
  },
  {
   "cell_type": "code",
   "execution_count": 40,
   "id": "8caf8a6c-ef42-48a1-9444-685862a0e3fe",
   "metadata": {},
   "outputs": [
    {
     "data": {
      "text/html": [
       "<div>\n",
       "<style scoped>\n",
       "    .dataframe tbody tr th:only-of-type {\n",
       "        vertical-align: middle;\n",
       "    }\n",
       "\n",
       "    .dataframe tbody tr th {\n",
       "        vertical-align: top;\n",
       "    }\n",
       "\n",
       "    .dataframe thead th {\n",
       "        text-align: right;\n",
       "    }\n",
       "</style>\n",
       "<table border=\"1\" class=\"dataframe\">\n",
       "  <thead>\n",
       "    <tr style=\"text-align: right;\">\n",
       "      <th></th>\n",
       "      <th>S_1</th>\n",
       "      <th>S_2</th>\n",
       "    </tr>\n",
       "    <tr>\n",
       "      <th>name</th>\n",
       "      <th></th>\n",
       "      <th></th>\n",
       "    </tr>\n",
       "  </thead>\n",
       "  <tbody>\n",
       "    <tr>\n",
       "      <th>a</th>\n",
       "      <td>16.250000</td>\n",
       "      <td>26.000000</td>\n",
       "    </tr>\n",
       "    <tr>\n",
       "      <th>b</th>\n",
       "      <td>16.666667</td>\n",
       "      <td>27.333333</td>\n",
       "    </tr>\n",
       "    <tr>\n",
       "      <th>c</th>\n",
       "      <td>13.333333</td>\n",
       "      <td>31.333333</td>\n",
       "    </tr>\n",
       "    <tr>\n",
       "      <th>d</th>\n",
       "      <td>23.000000</td>\n",
       "      <td>41.000000</td>\n",
       "    </tr>\n",
       "  </tbody>\n",
       "</table>\n",
       "</div>"
      ],
      "text/plain": [
       "            S_1        S_2\n",
       "name                      \n",
       "a     16.250000  26.000000\n",
       "b     16.666667  27.333333\n",
       "c     13.333333  31.333333\n",
       "d     23.000000  41.000000"
      ]
     },
     "execution_count": 40,
     "metadata": {},
     "output_type": "execute_result"
    }
   ],
   "source": [
    "var_new.mean()"
   ]
  },
  {
   "cell_type": "markdown",
   "id": "3c3541e6-e251-4742-92a0-cc961c40e87f",
   "metadata": {},
   "source": [
    "## Converting into the list"
   ]
  },
  {
   "cell_type": "code",
   "execution_count": 45,
   "id": "d9329a61-1fa7-48b7-9837-a6778b9d05f1",
   "metadata": {},
   "outputs": [
    {
     "data": {
      "text/plain": [
       "[('a',\n",
       "    name  S_1  S_2\n",
       "  0    a   12   23\n",
       "  4    a   13   27\n",
       "  6    a   15   29\n",
       "  8    a   25   25),\n",
       " ('b',\n",
       "    name  S_1  S_2\n",
       "  1    b   13   24\n",
       "  5    b   14   28\n",
       "  7    b   23   30),\n",
       " ('c',\n",
       "     name  S_1  S_2\n",
       "  2     c   14   25\n",
       "  9     c   16   34\n",
       "  10    c   10   35),\n",
       " ('d',\n",
       "     name  S_1  S_2\n",
       "  3     d   12   26\n",
       "  11    d   34   56)]"
      ]
     },
     "execution_count": 45,
     "metadata": {},
     "output_type": "execute_result"
    }
   ],
   "source": [
    "li = list(var_new)\n",
    "li"
   ]
  },
  {
   "cell_type": "code",
   "execution_count": null,
   "id": "69c527bb-6075-4f28-9c21-3737e1971665",
   "metadata": {},
   "outputs": [],
   "source": []
  }
 ],
 "metadata": {
  "kernelspec": {
   "display_name": "Python [conda env:base] *",
   "language": "python",
   "name": "conda-base-py"
  },
  "language_info": {
   "codemirror_mode": {
    "name": "ipython",
    "version": 3
   },
   "file_extension": ".py",
   "mimetype": "text/x-python",
   "name": "python",
   "nbconvert_exporter": "python",
   "pygments_lexer": "ipython3",
   "version": "3.12.7"
  }
 },
 "nbformat": 4,
 "nbformat_minor": 5
}
