{
 "cells": [
  {
   "cell_type": "markdown",
   "id": "895a1272-4088-4b23-b2e0-a1b591c52cb1",
   "metadata": {},
   "source": [
    "# Data Structure:- Series\n",
    "- It is defined as one-dimensional array that is capable of storing various data types."
   ]
  },
  {
   "cell_type": "code",
   "execution_count": 9,
   "id": "0d6ace06-27c0-4db9-a15c-847bed986f3b",
   "metadata": {},
   "outputs": [
    {
     "name": "stdout",
     "output_type": "stream",
     "text": [
      "0    3\n",
      "1    4\n",
      "2    5\n",
      "3    6\n",
      "dtype: int64\n",
      "<class 'pandas.core.series.Series'>\n"
     ]
    }
   ],
   "source": [
    "import pandas as pd\n",
    "\n",
    "x = [3,4,5,6]\n",
    "\n",
    "var = pd.Series(x)\n",
    "\n",
    "print(var)\n",
    "print(type(var))"
   ]
  },
  {
   "cell_type": "code",
   "execution_count": 11,
   "id": "38be9a17-c58c-4146-9a41-9b1804a968d9",
   "metadata": {},
   "outputs": [
    {
     "name": "stdout",
     "output_type": "stream",
     "text": [
      "5\n"
     ]
    }
   ],
   "source": [
    "print(var[2])"
   ]
  },
  {
   "cell_type": "code",
   "execution_count": 19,
   "id": "e27c54f5-2c25-4d3b-916d-9dfe1bf40941",
   "metadata": {},
   "outputs": [
    {
     "name": "stdout",
     "output_type": "stream",
     "text": [
      "a    3.0\n",
      "s    4.0\n",
      "d    5.0\n",
      "f    6.0\n",
      "dtype: float64\n"
     ]
    }
   ],
   "source": [
    "var = pd.Series(x, index = [\"a\", \"s\", \"d\", \"f\"], dtype=\"float\")\n",
    "print(var)"
   ]
  },
  {
   "cell_type": "code",
   "execution_count": 21,
   "id": "a006ff5e-1274-432d-9b58-e777635d82cd",
   "metadata": {},
   "outputs": [
    {
     "name": "stdout",
     "output_type": "stream",
     "text": [
      "a    3.0\n",
      "s    4.0\n",
      "d    5.0\n",
      "f    6.0\n",
      "Name: Python, dtype: float64\n"
     ]
    }
   ],
   "source": [
    "var = pd.Series(x, index = [\"a\", \"s\", \"d\", \"f\"], dtype=\"float\", name=\"Python\")\n",
    "print(var)"
   ]
  },
  {
   "cell_type": "markdown",
   "id": "eddb4787-fada-4ffe-9513-9a526ebb3a0d",
   "metadata": {},
   "source": [
    "### Using dictionary"
   ]
  },
  {
   "cell_type": "code",
   "execution_count": 24,
   "id": "c9b2a513-d09b-4027-9a13-cf317dcddc9f",
   "metadata": {},
   "outputs": [
    {
     "name": "stdout",
     "output_type": "stream",
     "text": [
      "name    [Python, C, Java, C++]\n",
      "por           [12, 13, 15, 14]\n",
      "rank              [1, 4, 2, 3]\n",
      "dtype: object\n"
     ]
    }
   ],
   "source": [
    "dic = { \"name\": [\"Python\", \"C\", \"Java\", \"C++\"], \"por\": [12,13,15,14], \"rank\":[1,4,2,3]}\n",
    "\n",
    "var1 = pd.Series(dic)\n",
    "print(var1)"
   ]
  },
  {
   "cell_type": "markdown",
   "id": "16b6c491-08e4-473e-af0c-6a36f3ae8626",
   "metadata": {},
   "source": [
    "### To create series using single value"
   ]
  },
  {
   "cell_type": "code",
   "execution_count": 27,
   "id": "3ccdea1b-ebee-4902-8e5a-fde0a2ef1302",
   "metadata": {},
   "outputs": [
    {
     "name": "stdout",
     "output_type": "stream",
     "text": [
      "1    12\n",
      "2    12\n",
      "3    12\n",
      "4    12\n",
      "5    12\n",
      "6    12\n",
      "7    12\n",
      "dtype: int64\n"
     ]
    }
   ],
   "source": [
    "s = pd.Series(12, index=[1,2,3,4,5,6,7])\n",
    "\n",
    "print(s)"
   ]
  },
  {
   "cell_type": "markdown",
   "id": "fa008442-c08c-4ac4-b301-ae249b411ca7",
   "metadata": {},
   "source": [
    "### Note: We don't need any broadcasting rule to solve the problem like NumPy that's why we use Pandas."
   ]
  },
  {
   "cell_type": "code",
   "execution_count": 31,
   "id": "77689155-d2f9-4199-b567-b37a2c3c994a",
   "metadata": {},
   "outputs": [],
   "source": [
    "s1 = pd.Series(12, index=[1,2,3,4,5,6,7])\n",
    "s2 = pd.Series(12, index=[1,2,3,4])"
   ]
  },
  {
   "cell_type": "markdown",
   "id": "ce8e2d0c-c8a0-4be3-8809-8fd458a176f2",
   "metadata": {},
   "source": [
    "### If we add these s1 and s2 in NumPy, then we can see the broadcasting error. That's why we are going to use Pandas."
   ]
  },
  {
   "cell_type": "code",
   "execution_count": 34,
   "id": "ca8ee859-8534-4eac-8dc9-faf41b2c59aa",
   "metadata": {},
   "outputs": [
    {
     "name": "stdout",
     "output_type": "stream",
     "text": [
      "1    24.0\n",
      "2    24.0\n",
      "3    24.0\n",
      "4    24.0\n",
      "5     NaN\n",
      "6     NaN\n",
      "7     NaN\n",
      "dtype: float64\n"
     ]
    }
   ],
   "source": [
    "print(s1+s2)"
   ]
  },
  {
   "cell_type": "code",
   "execution_count": null,
   "id": "96d80e37-0e87-4724-9337-9001886a68cf",
   "metadata": {},
   "outputs": [],
   "source": []
  }
 ],
 "metadata": {
  "kernelspec": {
   "display_name": "Python [conda env:base] *",
   "language": "python",
   "name": "conda-base-py"
  },
  "language_info": {
   "codemirror_mode": {
    "name": "ipython",
    "version": 3
   },
   "file_extension": ".py",
   "mimetype": "text/x-python",
   "name": "python",
   "nbconvert_exporter": "python",
   "pygments_lexer": "ipython3",
   "version": "3.12.7"
  }
 },
 "nbformat": 4,
 "nbformat_minor": 5
}
