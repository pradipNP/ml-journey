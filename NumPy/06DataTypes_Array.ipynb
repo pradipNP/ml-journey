{
 "cells": [
  {
   "cell_type": "markdown",
   "id": "af2ca654-2775-48bc-af74-e10b7a9a3488",
   "metadata": {},
   "source": [
    "# Data Types in NumPy Arrays\n",
    "| Sr.No. | Data Type | Description                                                                    |\n",
    "| ------ | --------- | ------------------------------------------------------------------------------ |\n",
    "| 1      | bool_     | Boolean (True or False) stored as a byte                                       |\n",
    "| 2      | int_      | Default integer type (same as C long; normally either int64 or int32)          |\n",
    "| 3      | Intc      | Identical to C int (normally int32 or int64)                                   |\n",
    "| 4      | Intp      | Integer used for indexing (same as C ssize\\_t; normally either int32 or int64) |\n",
    "| 5      | int8      | Byte (-128 to 127)                                                             |\n",
    "| 6      | int16     | Integer (-32768 to 32767)                                                      |\n",
    "| 7      | int32     | Integer (-2147483648 to 2147483647)                                            |\n",
    "| 8      | int64     | Integer (-9223372036854775808 to 9223372036854775807)                          |\n",
    "| 9      | uint8     | Unsigned integer (0 to 255)                                                    |\n",
    "| 10     | uint16    | Unsigned integer (0 to 65535)                                                  |\n",
    "| 11     | uint32    | Unsigned integer (0 to 4294967295)                                             |\n",
    "| 12     | uint64    | Unsigned integer (0 to 18446744073709551615)                                   |\n",
    "| 13     | float     | Shorthand for float64                                                          |\n",
    "| 14     | float16   | Half precision float: sign bit, 5 bits exponent, 10 bits mantissa              |\n",
    "| 15     | float32   | Single precision float: sign bit, 8 bits exponent, 23 bits mantissa            |\n",
    "| 16     | float64   | Double precision float: sign bit, 11 bits exponent, 52 bits mantissa           |\n",
    "| 17     | complex   | Shorthand for complex128                                                       |\n",
    "| 18     | complex64 | Complex number, represented by two 32-bit floats (real and imaginary components)|\n",
    "| 19     | complex128| Complex number, represented by two 64-bit floats (real and imaginary components)|"
   ]
  },
  {
   "cell_type": "markdown",
   "id": "e385e6c1-504f-4597-a61e-4f5af19cdbc3",
   "metadata": {},
   "source": [
    "# dtype"
   ]
  },
  {
   "cell_type": "code",
   "execution_count": 6,
   "id": "0e5ad181-6834-4412-9e76-8bf496a5739e",
   "metadata": {},
   "outputs": [
    {
     "name": "stdout",
     "output_type": "stream",
     "text": [
      "Data type:  int32\n"
     ]
    }
   ],
   "source": [
    "import numpy as np\n",
    "\n",
    "var = np.array([1,2,3,4])\n",
    "\n",
    "print(\"Data type: \", var.dtype)"
   ]
  },
  {
   "cell_type": "code",
   "execution_count": 8,
   "id": "d145b3a6-e113-4112-a8bb-a2650424551a",
   "metadata": {},
   "outputs": [
    {
     "name": "stdout",
     "output_type": "stream",
     "text": [
      "Data type:  float64\n"
     ]
    }
   ],
   "source": [
    "var = np.array([1.0,2.0,3.0,4.0])\n",
    "print(\"Data type: \", var.dtype)"
   ]
  },
  {
   "cell_type": "code",
   "execution_count": 10,
   "id": "e7d328f9-aeb1-41b8-aa41-db1c958b7850",
   "metadata": {},
   "outputs": [
    {
     "name": "stdout",
     "output_type": "stream",
     "text": [
      "Data type:  <U1\n"
     ]
    }
   ],
   "source": [
    "var = np.array([\"A\",\"B\",\"C\"])\n",
    "print(\"Data type: \", var.dtype)"
   ]
  },
  {
   "cell_type": "code",
   "execution_count": 12,
   "id": "41c68e89-f545-4bc9-999c-c276388493da",
   "metadata": {},
   "outputs": [
    {
     "name": "stdout",
     "output_type": "stream",
     "text": [
      "Data type:  <U11\n"
     ]
    }
   ],
   "source": [
    "var = np.array([\"A\",\"B\",\"C\", 1,2,3,4])\n",
    "print(\"Data type: \", var.dtype)"
   ]
  },
  {
   "cell_type": "markdown",
   "id": "6781d7d6-5c67-4486-83b8-8de3e566b83a",
   "metadata": {},
   "source": [
    "# For converting the Data Types from present to another data type, we can either use the same as above list or we can use shortcuts which is listed below:\n",
    "\n",
    "### Data Types as Function\n",
    "##### list of characters that are used to represent dtype in Numpy:\n",
    "\n",
    "| Character | Data Type Description |\n",
    "|-----------|---------------------|\n",
    "| i         | integer             |\n",
    "| b         | boolean             |\n",
    "| u         | unsigned integer    |\n",
    "| f         | float               |\n",
    "| C         | complex float       |\n",
    "| m         | timedelta           |\n",
    "| M         | datetime            |\n",
    "| O         | object              |\n",
    "| S         | string              |\n",
    "| U         | Unicode string      |\n",
    "| V         | the fixed chunk of memory for other types (void) |\n"
   ]
  },
  {
   "cell_type": "code",
   "execution_count": 23,
   "id": "37b49f6d-6d58-437b-926a-66401fed38f9",
   "metadata": {},
   "outputs": [
    {
     "name": "stdout",
     "output_type": "stream",
     "text": [
      "Data Type:  int32\n"
     ]
    }
   ],
   "source": [
    "x = np.array([1,2,3,4])\n",
    "print(\"Data Type: \", x.dtype)"
   ]
  },
  {
   "cell_type": "code",
   "execution_count": 31,
   "id": "2738eb78-f86c-48b6-8d38-90a30b2d06c7",
   "metadata": {},
   "outputs": [
    {
     "name": "stdout",
     "output_type": "stream",
     "text": [
      "Data Type:  int8\n",
      "[1 2 3 4]\n"
     ]
    }
   ],
   "source": [
    "# Converting int32 to int8\n",
    "\n",
    "x = np.array([1,2,3,4],dtype = np.int8) \n",
    "print(\"Data Type: \", x.dtype)\n",
    "print(x)"
   ]
  },
  {
   "cell_type": "code",
   "execution_count": 37,
   "id": "70f8bc9c-0868-49b5-95a1-ea43bb35a44a",
   "metadata": {},
   "outputs": [
    {
     "name": "stdout",
     "output_type": "stream",
     "text": [
      "Data Type:  float32\n",
      "[1. 2. 3. 4.]\n"
     ]
    }
   ],
   "source": [
    "# Converting integer to float\n",
    "\n",
    "x1 = np.array([1,2,3,4],dtype = \"f\")\n",
    "print(\"Data Type: \", x1.dtype)\n",
    "print(x1)"
   ]
  },
  {
   "cell_type": "code",
   "execution_count": 47,
   "id": "c1ed5c42-43ba-41f2-9c20-91862915603e",
   "metadata": {},
   "outputs": [
    {
     "name": "stdout",
     "output_type": "stream",
     "text": [
      "Data Type:  int32\n",
      "Data Type:  float32\n",
      "Data Type:  int32\n",
      "[1 2 3 4]\n",
      "[1. 2. 3. 4.]\n",
      "[1 2 3 4]\n"
     ]
    }
   ],
   "source": [
    "# Converting data type as a function\n",
    "# int32 to float32\n",
    "# again float32 to int32\n",
    "\n",
    "x2 = np.array([1,2,3,4])\n",
    "\n",
    "new = np.float32(x2)\n",
    "\n",
    "new_one = np.int_(new)\n",
    "\n",
    "print(\"Data Type: \", x2.dtype)\n",
    "print(\"Data Type: \", new.dtype)\n",
    "print(\"Data Type: \", new_one.dtype)\n",
    "\n",
    "print(x2)\n",
    "print(new)\n",
    "print(new_one)"
   ]
  },
  {
   "cell_type": "code",
   "execution_count": 53,
   "id": "d57cdf1b-9c91-49f5-aa76-95297a496eb2",
   "metadata": {},
   "outputs": [
    {
     "name": "stdout",
     "output_type": "stream",
     "text": [
      "[1 2 3 4]\n",
      "[1. 2. 3. 4.]\n"
     ]
    }
   ],
   "source": [
    "# Converting datatype using astype()function\n",
    "\n",
    "x3 = np.array([1,2,3,4])\n",
    "\n",
    "new_1 = x3.astype(float)\n",
    "\n",
    "print(x3)\n",
    "print(new_1)"
   ]
  },
  {
   "cell_type": "code",
   "execution_count": null,
   "id": "905106ef-6a5b-44c9-9dc8-ef24edd65a05",
   "metadata": {},
   "outputs": [],
   "source": []
  }
 ],
 "metadata": {
  "kernelspec": {
   "display_name": "Python [conda env:base] *",
   "language": "python",
   "name": "conda-base-py"
  },
  "language_info": {
   "codemirror_mode": {
    "name": "ipython",
    "version": 3
   },
   "file_extension": ".py",
   "mimetype": "text/x-python",
   "name": "python",
   "nbconvert_exporter": "python",
   "pygments_lexer": "ipython3",
   "version": "3.12.7"
  }
 },
 "nbformat": 4,
 "nbformat_minor": 5
}
