{
 "cells": [
  {
   "cell_type": "markdown",
   "id": "15f80023-98b6-43c6-b190-c52bb79fd83f",
   "metadata": {},
   "source": [
    "# Join Array\n",
    "## Functions:\n",
    "1. concatenate((1st_array, 2nd_array))\n",
    "## For 1-D "
   ]
  },
  {
   "cell_type": "code",
   "execution_count": 11,
   "id": "7b899203-32cb-42b8-b573-7100166bbfa8",
   "metadata": {},
   "outputs": [
    {
     "name": "stdout",
     "output_type": "stream",
     "text": [
      "[1 2 3 4]\n",
      "[9 8 7 6]\n",
      "\n",
      "[1 2 3 4 9 8 7 6]\n"
     ]
    }
   ],
   "source": [
    "import numpy as np\n",
    "\n",
    "var = np.array([1,2,3,4])\n",
    "var1 = np.array([9,8,7,6])\n",
    "\n",
    "print(var)\n",
    "print(var1)\n",
    "print()\n",
    "ar = np.concatenate((var,var1))\n",
    "\n",
    "print(ar)"
   ]
  },
  {
   "cell_type": "markdown",
   "id": "f138f755-af7a-4f77-b58d-8ab7015a204a",
   "metadata": {},
   "source": [
    "## For 2-D\n",
    "- concatenate((1st_array,2nd_array), axis) ====> axis can be 0 or 1, 0 denotes column side, 1 denotes row side"
   ]
  },
  {
   "cell_type": "code",
   "execution_count": 13,
   "id": "30fb0810-8572-41ce-956d-ea1d7367eb78",
   "metadata": {},
   "outputs": [
    {
     "name": "stdout",
     "output_type": "stream",
     "text": [
      "[[1 2]\n",
      " [3 4]]\n",
      "\n",
      "[[9 8]\n",
      " [7 6]]\n",
      "\n",
      "[[1 2 9 8]\n",
      " [3 4 7 6]]\n"
     ]
    }
   ],
   "source": [
    "vr = np.array([[1,2],[3,4]])\n",
    "vr1 = np.array([[9,8],[7,6]])\n",
    "\n",
    "ar_new = np.concatenate((vr,vr1), axis=1)\n",
    "\n",
    "print(vr)\n",
    "print()\n",
    "print(vr1)\n",
    "print()\n",
    "print(ar_new)"
   ]
  },
  {
   "cell_type": "code",
   "execution_count": 19,
   "id": "5b8504d3-dbec-462b-a5d1-9a1bac57c291",
   "metadata": {},
   "outputs": [
    {
     "name": "stdout",
     "output_type": "stream",
     "text": [
      "[[1 2]\n",
      " [3 4]]\n",
      "\n",
      "[[9 8]\n",
      " [7 6]]\n",
      "\n",
      "[[1 2]\n",
      " [3 4]\n",
      " [9 8]\n",
      " [7 6]]\n"
     ]
    }
   ],
   "source": [
    "ar_new = np.concatenate((vr,vr1), axis=0)\n",
    "\n",
    "print(vr)\n",
    "print()\n",
    "print(vr1)\n",
    "print()\n",
    "print(ar_new)"
   ]
  },
  {
   "cell_type": "markdown",
   "id": "c924f599-a694-4be2-94f0-54f16825b4be",
   "metadata": {},
   "source": [
    "2. stack() =====> it works on the basis of axis"
   ]
  },
  {
   "cell_type": "code",
   "execution_count": 23,
   "id": "687786d4-cfec-4b93-8a53-46436ec09ff2",
   "metadata": {},
   "outputs": [
    {
     "name": "stdout",
     "output_type": "stream",
     "text": [
      "[1 2 3 4]\n",
      "[9 8 7 6]\n",
      "\n",
      "[[1 9]\n",
      " [2 8]\n",
      " [3 7]\n",
      " [4 6]]\n"
     ]
    }
   ],
   "source": [
    "var_1 = np.array([1,2,3,4])\n",
    "var_2= np.array([9,8,7,6])\n",
    "\n",
    "print(var_1)\n",
    "print(var_2)\n",
    "print()\n",
    "a_new = np.stack((var_1,var_2), axis=1)\n",
    "\n",
    "print(a_new)"
   ]
  },
  {
   "cell_type": "markdown",
   "id": "f0c19b03-fdf4-4957-b6a6-2632d6072659",
   "metadata": {},
   "source": [
    "## If we want to join the arrays without giving axis, we use:\n",
    "- hstack((arr1,arr2)) ====> It joins the array via horizontally (row)\n",
    "- vstack((arr1,arr2)) ====> It joins the array via vertically (column)\n",
    "- dstack((arr1,arr2)) ====> It joins the array via height (height)"
   ]
  },
  {
   "cell_type": "markdown",
   "id": "9d70fede-7e37-4cd2-92fb-7cc46e069e98",
   "metadata": {},
   "source": [
    "#### hstack()"
   ]
  },
  {
   "cell_type": "code",
   "execution_count": 29,
   "id": "18f103c2-1cf7-41fa-b71e-9f14e801c2ee",
   "metadata": {},
   "outputs": [
    {
     "name": "stdout",
     "output_type": "stream",
     "text": [
      "[1 2 3 4]\n",
      "[9 8 7 6]\n",
      "\n",
      "[1 2 3 4 9 8 7 6]\n"
     ]
    }
   ],
   "source": [
    "var_3 = np.array([1,2,3,4])\n",
    "var_4= np.array([9,8,7,6])\n",
    "\n",
    "print(var_3)\n",
    "print(var_4)\n",
    "print()\n",
    "aa_new = np.hstack((var_1,var_2))\n",
    "\n",
    "print(aa_new)"
   ]
  },
  {
   "cell_type": "markdown",
   "id": "8f6e583c-1e1e-4da3-aec3-b8a14570adc4",
   "metadata": {},
   "source": [
    "#### vstack()"
   ]
  },
  {
   "cell_type": "code",
   "execution_count": 38,
   "id": "719251db-4897-4e09-84e8-51fd819ddbd4",
   "metadata": {},
   "outputs": [
    {
     "name": "stdout",
     "output_type": "stream",
     "text": [
      "[1 2 3 4]\n",
      "[1 8 7 6]\n",
      "\n",
      "[[1 2 3 4]\n",
      " [1 8 7 6]]\n"
     ]
    }
   ],
   "source": [
    "var_5 = np.array([1,2,3,4])\n",
    "var_6= np.array([1,8,7,6])\n",
    "\n",
    "print(var_5)\n",
    "print(var_6)\n",
    "print()\n",
    "aaa_new = np.vstack((var_5,var_6))\n",
    "\n",
    "print(aaa_new)"
   ]
  },
  {
   "cell_type": "markdown",
   "id": "38dbd48e-1868-41c8-a37c-e08b4bb3971f",
   "metadata": {},
   "source": [
    "#### dstack()"
   ]
  },
  {
   "cell_type": "code",
   "execution_count": 43,
   "id": "00d73ca1-9329-41c8-ac58-52bf4a60c534",
   "metadata": {},
   "outputs": [
    {
     "name": "stdout",
     "output_type": "stream",
     "text": [
      "[1 2 3 4]\n",
      "[1 8 7 6]\n",
      "\n",
      "[[[1 1]\n",
      "  [2 8]\n",
      "  [3 7]\n",
      "  [4 6]]]\n"
     ]
    }
   ],
   "source": [
    "var_7 = np.array([1,2,3,4])\n",
    "var_8= np.array([1,8,7,6])\n",
    "\n",
    "print(var_7)\n",
    "print(var_8)\n",
    "print()\n",
    "aaaa_new = np.dstack((var_7,var_8))\n",
    "\n",
    "print(aaaa_new)"
   ]
  },
  {
   "cell_type": "markdown",
   "id": "5a7b2a4d-fcb0-48ce-96ff-dc275ace06b9",
   "metadata": {},
   "source": [
    "# Split Array\n",
    "### Functions:\n",
    "1. array_split(array,no.of_required_array)\n",
    "## 1-D "
   ]
  },
  {
   "cell_type": "code",
   "execution_count": 62,
   "id": "78d0e55e-a724-453c-8efa-4c928f7fa341",
   "metadata": {},
   "outputs": [
    {
     "name": "stdout",
     "output_type": "stream",
     "text": [
      "[1 2 3 4 5 6]\n",
      "\n",
      "[array([1, 2]), array([3, 4]), array([5, 6])]\n",
      "<class 'list'>\n",
      "[5 6]\n"
     ]
    }
   ],
   "source": [
    "a = np.array([1,2,3,4,5,6])\n",
    "\n",
    "print(a)\n",
    "\n",
    "ar = np.array_split(a,3)\n",
    "print()\n",
    "print(ar)\n",
    "print(type(ar))\n",
    "\n",
    "print(ar[2]) # at index no. 2"
   ]
  },
  {
   "cell_type": "markdown",
   "id": "061c9015-634a-40e8-823e-f0577b610de1",
   "metadata": {},
   "source": [
    "## 2-D"
   ]
  },
  {
   "cell_type": "code",
   "execution_count": 67,
   "id": "19f1bc4f-1436-43d2-84c5-adb251e62541",
   "metadata": {},
   "outputs": [
    {
     "name": "stdout",
     "output_type": "stream",
     "text": [
      "[[1 2]\n",
      " [3 4]\n",
      " [5 6]]\n",
      "\n",
      "[array([[1, 2]]), array([[3, 4]]), array([[5, 6]])]\n",
      "<class 'list'>\n"
     ]
    }
   ],
   "source": [
    "b = np.array([[1,2],[3,4],[5,6]])\n",
    "\n",
    "print(b)\n",
    "\n",
    "ar1 = np.array_split(b,3)\n",
    "print()\n",
    "print(ar1)\n",
    "print(type(ar1))"
   ]
  },
  {
   "cell_type": "markdown",
   "id": "50a06069-4276-43ba-a0c9-60e58c7fd83f",
   "metadata": {},
   "source": [
    "### Split by giving axis"
   ]
  },
  {
   "cell_type": "code",
   "execution_count": 70,
   "id": "a24a24fa-894f-4ad6-b186-032b6b553c19",
   "metadata": {},
   "outputs": [
    {
     "name": "stdout",
     "output_type": "stream",
     "text": [
      "[[1 2]\n",
      " [3 4]\n",
      " [5 6]]\n",
      "\n",
      "[array([[1],\n",
      "       [3],\n",
      "       [5]]), array([[2],\n",
      "       [4],\n",
      "       [6]]), array([], shape=(3, 0), dtype=int32)]\n",
      "<class 'list'>\n"
     ]
    }
   ],
   "source": [
    "b = np.array([[1,2],[3,4],[5,6]])\n",
    "\n",
    "print(b)\n",
    "\n",
    "ar2 = np.array_split(b,3,axis=1)\n",
    "print()\n",
    "print(ar2)\n",
    "print(type(ar2))"
   ]
  },
  {
   "cell_type": "code",
   "execution_count": null,
   "id": "dd071ae5-caeb-4dba-a08e-cbd50cca07ef",
   "metadata": {},
   "outputs": [],
   "source": []
  }
 ],
 "metadata": {
  "kernelspec": {
   "display_name": "Python [conda env:base] *",
   "language": "python",
   "name": "conda-base-py"
  },
  "language_info": {
   "codemirror_mode": {
    "name": "ipython",
    "version": 3
   },
   "file_extension": ".py",
   "mimetype": "text/x-python",
   "name": "python",
   "nbconvert_exporter": "python",
   "pygments_lexer": "ipython3",
   "version": "3.12.7"
  }
 },
 "nbformat": 4,
 "nbformat_minor": 5
}
