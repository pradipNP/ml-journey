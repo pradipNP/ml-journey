{
 "cells": [
  {
   "cell_type": "markdown",
   "id": "54ca84c6-22e5-4db4-a72a-6fc9434d19d1",
   "metadata": {},
   "source": [
    "# Indexing\n",
    "<div style=\"text-align: center;\">\n",
    "    <img src=\"Images\\Indexing.png\" alt=\"Indexing Image\" width=\"300\"/>\n",
    "</div>"
   ]
  },
  {
   "cell_type": "code",
   "execution_count": 6,
   "id": "086fe51d-d8c4-4acc-84c8-dffe4118a879",
   "metadata": {},
   "outputs": [],
   "source": [
    "import numpy as np"
   ]
  },
  {
   "cell_type": "markdown",
   "id": "d73ebda6-268f-4b8e-b9ae-fbbb3960a439",
   "metadata": {},
   "source": [
    "### For 1-D"
   ]
  },
  {
   "cell_type": "code",
   "execution_count": 12,
   "id": "a0ee752c-cd50-457c-b8b2-9b8b4c30b632",
   "metadata": {},
   "outputs": [
    {
     "name": "stdout",
     "output_type": "stream",
     "text": [
      "8\n",
      "7\n"
     ]
    }
   ],
   "source": [
    "var = np.array([9,8,7,6])\n",
    "# Index no.     0,1,2,3\n",
    "# -ve          -4,-3,-2,-1\n",
    "\n",
    "print(var[1])\n",
    "print(var[-2])"
   ]
  },
  {
   "cell_type": "markdown",
   "id": "18d99820-e745-4db4-81f1-cc34a0fd7d05",
   "metadata": {},
   "source": [
    "### For 2-D\n",
    "##### Note: For 2-D, first parameter is for the row no. and second for the index no."
   ]
  },
  {
   "cell_type": "code",
   "execution_count": 21,
   "id": "f0955330-4249-4466-98dd-d34722799090",
   "metadata": {},
   "outputs": [
    {
     "name": "stdout",
     "output_type": "stream",
     "text": [
      "[[9 8 7]\n",
      " [4 5 6]]\n",
      "2\n",
      "\n",
      "8\n"
     ]
    }
   ],
   "source": [
    "var1 = np.array([[9,8,7],[4,5,6]])\n",
    "\n",
    "print(var1)\n",
    "print(var1.ndim)\n",
    "print()\n",
    "\n",
    "print(var1[0,1]) # '0' denotes the first row and '1' denotes the value at index 1 of first row"
   ]
  },
  {
   "cell_type": "markdown",
   "id": "7fa98f3e-ccba-4a0c-a2b0-caf4c6ae50d6",
   "metadata": {},
   "source": [
    "### For 3-D"
   ]
  },
  {
   "cell_type": "code",
   "execution_count": 33,
   "id": "b6810ef6-0161-4512-905b-6025344a9050",
   "metadata": {},
   "outputs": [
    {
     "name": "stdout",
     "output_type": "stream",
     "text": [
      "[[[1 2]\n",
      "  [6 7]]]\n",
      "3\n",
      "\n",
      "[6 7]\n",
      "\n",
      "7\n"
     ]
    }
   ],
   "source": [
    "var2 = np.array([[[1,2],[6,7]]])\n",
    "\n",
    "print(var2)\n",
    "print(var2.ndim)\n",
    "\n",
    "print()\n",
    "print(var2[0,1])\n",
    "print()\n",
    "print(var2[0,1,1])"
   ]
  },
  {
   "cell_type": "markdown",
   "id": "63d3b7ab-4390-4c40-a794-9ca7fc390f0a",
   "metadata": {},
   "source": [
    "# Slicing\n",
    "### For 1-D"
   ]
  },
  {
   "cell_type": "code",
   "execution_count": 56,
   "id": "07390ffa-7644-4d3d-8f50-0a60436f6a61",
   "metadata": {},
   "outputs": [
    {
     "name": "stdout",
     "output_type": "stream",
     "text": [
      "[1 2 3 4 5 6 7]\n",
      "\n",
      "2 to 5 :  [2 3 4 5]\n",
      "2 to End:  [2 3 4 5 6 7]\n",
      "Start to 5 :  [1 2 3 4 5]\n",
      "stop :  [1 3 5 7]\n",
      "stop :  [2 4]\n"
     ]
    }
   ],
   "source": [
    "# In slicing, [start:stop:step] , Note: step is optional\n",
    "\n",
    "import numpy as np\n",
    "\n",
    "var = np.array([1,2,3,4,5,6,7])\n",
    "# Index no.     0,1,2,3,4,5,6\n",
    "\n",
    "print(var)\n",
    "print()\n",
    "\n",
    "print(\"2 to 5 : \", var[1:5]) # 5 is not included\n",
    "\n",
    "print(\"2 to End: \", var[1:])\n",
    "\n",
    "print(\"Start to 5 : \", var[:5]) # 5 not included, it will run from start to 5-1\n",
    "\n",
    "print(\"stop : \", var[::2]) # 2 is the step\n",
    "\n",
    "print(\"stop : \", var[1:5:2]) # 2 is the step"
   ]
  },
  {
   "cell_type": "markdown",
   "id": "1c5092fa-6748-48b4-99b5-f279c8a57d72",
   "metadata": {},
   "source": [
    "### For 2-D"
   ]
  },
  {
   "cell_type": "code",
   "execution_count": 62,
   "id": "ce277be4-a01b-4241-9698-11cf91bd133b",
   "metadata": {},
   "outputs": [
    {
     "name": "stdout",
     "output_type": "stream",
     "text": [
      "[[ 1  2  3  4  5]\n",
      " [ 9  8  7  6  5]\n",
      " [11 12 13 14 15]]\n",
      "\n",
      "8 to 5:  [8 7 6 5]\n"
     ]
    }
   ],
   "source": [
    "var1 = np.array([[1,2,3,4,5],[9,8,7,6,5],[11,12,13,14,15]])\n",
    "print(var1)\n",
    "print()\n",
    "\n",
    "print(\"8 to 5: \", var1[1,1:])"
   ]
  },
  {
   "cell_type": "code",
   "execution_count": 64,
   "id": "e87e7a3a-3abd-4a29-b489-dccef458677d",
   "metadata": {},
   "outputs": [
    {
     "name": "stdout",
     "output_type": "stream",
     "text": [
      "13 to 15:  [13 14 15]\n"
     ]
    }
   ],
   "source": [
    "print(\"13 to 15: \", var1[2,2:])"
   ]
  },
  {
   "cell_type": "code",
   "execution_count": null,
   "id": "cfc07ada-7a59-45c7-a883-a6e0607b3dcc",
   "metadata": {},
   "outputs": [],
   "source": []
  }
 ],
 "metadata": {
  "kernelspec": {
   "display_name": "Python [conda env:base] *",
   "language": "python",
   "name": "conda-base-py"
  },
  "language_info": {
   "codemirror_mode": {
    "name": "ipython",
    "version": 3
   },
   "file_extension": ".py",
   "mimetype": "text/x-python",
   "name": "python",
   "nbconvert_exporter": "python",
   "pygments_lexer": "ipython3",
   "version": "3.12.7"
  }
 },
 "nbformat": 4,
 "nbformat_minor": 5
}
