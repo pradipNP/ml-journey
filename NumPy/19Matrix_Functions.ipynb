{
 "cells": [
  {
   "cell_type": "markdown",
   "id": "1f17808b-865b-4513-b6e5-eb4cde5130d4",
   "metadata": {},
   "source": [
    "# Matrix Function in NumPy Arrays\n",
    "1. Transpose\n",
    "2. Swapaxes\n",
    "3. Inverse\n",
    "4. Power\n",
    "5. Determinate"
   ]
  },
  {
   "cell_type": "markdown",
   "id": "f267c45f-a167-47c1-83ec-aa1b5bd2a78d",
   "metadata": {},
   "source": [
    "## 1. Transpose"
   ]
  },
  {
   "cell_type": "markdown",
   "id": "92e393e3-aa4b-4d76-b233-cc166094e6d0",
   "metadata": {},
   "source": [
    "<img src=\"Images/transpose_matrix.png\" alt=\"Transpose Matrix\" width=\"800\" />"
   ]
  },
  {
   "cell_type": "code",
   "execution_count": 61,
   "id": "dec44d79-62bd-4e88-aff5-acc76e793b4f",
   "metadata": {},
   "outputs": [
    {
     "name": "stdout",
     "output_type": "stream",
     "text": [
      "[[1 2 3]\n",
      " [4 5 6]]\n",
      "\n",
      "[[1 4]\n",
      " [2 5]\n",
      " [3 6]]\n",
      "\n",
      "[[1 4]\n",
      " [2 5]\n",
      " [3 6]]\n"
     ]
    }
   ],
   "source": [
    "import numpy as np\n",
    "\n",
    "var = np.matrix([[1,2,3],[4,5,6]])\n",
    "print(var)\n",
    "print()\n",
    "\n",
    "print(np.transpose(var))\n",
    "print()\n",
    "\n",
    "#Shortcut\n",
    "print(var.T)"
   ]
  },
  {
   "cell_type": "markdown",
   "id": "0f957f04-6e9f-4337-882e-1cb2f9201492",
   "metadata": {},
   "source": [
    "## 2. Swapaxes :- Row to column and Column to row conversion\n",
    "<img src=\"Images/swapaxes_matrix.png\" alt=\"Swapaxes Image\" width=\"800\"/>"
   ]
  },
  {
   "cell_type": "code",
   "execution_count": 64,
   "id": "7337a844-faa0-41e8-a0f5-c40587919ead",
   "metadata": {},
   "outputs": [
    {
     "name": "stdout",
     "output_type": "stream",
     "text": [
      "[[1 4]\n",
      " [2 5]\n",
      " [3 6]]\n"
     ]
    }
   ],
   "source": [
    "print(np.swapaxes(var,0,1)) # 0 and 1 are the axis, 0 to 1 conversion is done here"
   ]
  },
  {
   "cell_type": "code",
   "execution_count": 65,
   "id": "8ae6930e-54b4-493b-8bc8-388dbeacdaee",
   "metadata": {},
   "outputs": [
    {
     "name": "stdout",
     "output_type": "stream",
     "text": [
      "[[1 2]\n",
      " [3 4]]\n",
      "\n",
      "[[1 3]\n",
      " [2 4]]\n",
      "\n",
      "[[1 3]\n",
      " [2 4]]\n"
     ]
    }
   ],
   "source": [
    "var2 = np.matrix([[1,2],[3,4]])\n",
    "print(var2)\n",
    "print()\n",
    "print(np.swapaxes(var2,0,1))\n",
    "print()\n",
    "print(np.swapaxes(var2,1,0))"
   ]
  },
  {
   "cell_type": "markdown",
   "id": "01404d89-901c-4942-8868-fe0fb9ebddaa",
   "metadata": {},
   "source": [
    "## 3. Inverse\n",
    "- linalg.inv()\n",
    "<img src=\"Images/inverse_matrix.png\" alt=\"Inverse Image\" width=\"800\"/>"
   ]
  },
  {
   "cell_type": "code",
   "execution_count": 67,
   "id": "2db5ff84-4565-4288-8888-39cd5d472227",
   "metadata": {},
   "outputs": [
    {
     "name": "stdout",
     "output_type": "stream",
     "text": [
      "[[1 2]\n",
      " [3 4]]\n",
      "\n",
      "[[-2.   1. ]\n",
      " [ 1.5 -0.5]]\n"
     ]
    }
   ],
   "source": [
    "var3 = np.matrix([[1,2],[3,4]])\n",
    "print(var3)\n",
    "print()\n",
    "\n",
    "print(np.linalg.inv(var3))"
   ]
  },
  {
   "cell_type": "markdown",
   "id": "7191ef29-6097-4fe6-b9f0-bb47b6dd07a2",
   "metadata": {},
   "source": [
    "## 4. Power\n",
    "<img src=\"Images/power_matrix.png\" alt=\"Power of matrix\" width=\"800\"/>"
   ]
  },
  {
   "cell_type": "code",
   "execution_count": 69,
   "id": "119ac27b-6731-48d6-91b3-c70607e4d07d",
   "metadata": {},
   "outputs": [
    {
     "name": "stdout",
     "output_type": "stream",
     "text": [
      "[[1 2]\n",
      " [3 4]]\n",
      "\n",
      "[[ 7 10]\n",
      " [15 22]]\n",
      "\n",
      "[[1 0]\n",
      " [0 1]]\n",
      "\n",
      "[[ 5.5  -2.5 ]\n",
      " [-3.75  1.75]]\n"
     ]
    }
   ],
   "source": [
    "var4 = np.matrix([[1,2],[3,4]])\n",
    "print(var4)\n",
    "print()\n",
    "\n",
    "print(np.linalg.matrix_power(var4,2))\n",
    "print()\n",
    "\n",
    "print(np.linalg.matrix_power(var4,0))\n",
    "print()\n",
    "\n",
    "print(np.linalg.matrix_power(var4,-2))"
   ]
  },
  {
   "cell_type": "markdown",
   "id": "a9a8816a-c7d5-493c-9529-9ef9cffb667e",
   "metadata": {},
   "source": [
    "## 5. Determinate\n",
    "<img src=\"Images/determinate_matrix.png\" alt=\"Determinate Image\" width=\"800\"/>"
   ]
  },
  {
   "cell_type": "code",
   "execution_count": 71,
   "id": "adcca3ee-328b-4919-9ac3-95ad57471924",
   "metadata": {},
   "outputs": [
    {
     "name": "stdout",
     "output_type": "stream",
     "text": [
      "[[1 2 3]\n",
      " [3 4 3]\n",
      " [1 2 3]]\n",
      "\n",
      "0.0\n"
     ]
    }
   ],
   "source": [
    "var5 = np.matrix([[1,2,3],[3,4,3],[1,2,3]])\n",
    "print(var5)\n",
    "print()\n",
    "print(np.linalg.det(var5))"
   ]
  }
 ],
 "metadata": {
  "kernelspec": {
   "display_name": "Python [conda env:base] *",
   "language": "python",
   "name": "conda-base-py"
  },
  "language_info": {
   "codemirror_mode": {
    "name": "ipython",
    "version": 3
   },
   "file_extension": ".py",
   "mimetype": "text/x-python",
   "name": "python",
   "nbconvert_exporter": "python",
   "pygments_lexer": "ipython3",
   "version": "3.12.7"
  }
 },
 "nbformat": 4,
 "nbformat_minor": 5
}
