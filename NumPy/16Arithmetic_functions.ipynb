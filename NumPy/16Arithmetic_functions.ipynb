{
 "cells": [
  {
   "cell_type": "markdown",
   "id": "9bca1541-893b-49b3-af54-190e412942e0",
   "metadata": {},
   "source": [
    "# Arithmetic Functions\n",
    "1. Shuffle\n",
    "2. Unique\n",
    "3. Resize\n",
    "4. Flatten\n",
    "5. Ravel"
   ]
  },
  {
   "cell_type": "markdown",
   "id": "dff28dba-e96c-4ada-8353-ee2ed4f76866",
   "metadata": {},
   "source": [
    "## 1. Shuffle := It shuffles the array "
   ]
  },
  {
   "cell_type": "code",
   "execution_count": 14,
   "id": "e26386df-227a-466f-ae87-b976d647701d",
   "metadata": {},
   "outputs": [
    {
     "name": "stdout",
     "output_type": "stream",
     "text": [
      "[1 4 2 5 3]\n"
     ]
    }
   ],
   "source": [
    "import numpy as np\n",
    "\n",
    "var = np.array([1,2,3,4,5])\n",
    "\n",
    "np.random.shuffle(var)\n",
    "\n",
    "print(var)"
   ]
  },
  {
   "cell_type": "markdown",
   "id": "688c4c5d-5c85-47e1-810c-41d2e86fca95",
   "metadata": {},
   "source": [
    "## 2. Unique :- It ignores the duplicate elements"
   ]
  },
  {
   "cell_type": "code",
   "execution_count": 10,
   "id": "c78df649-d418-479d-a870-0c42c2eb94dc",
   "metadata": {},
   "outputs": [
    {
     "name": "stdout",
     "output_type": "stream",
     "text": [
      "[1 2 3 4 5 6 7]\n"
     ]
    }
   ],
   "source": [
    "var1 = np.array([1,2,3,4,2,5,2,6,2,7])\n",
    "\n",
    "x = np.unique(var1)\n",
    "print(x)"
   ]
  },
  {
   "cell_type": "markdown",
   "id": "b866331c-8225-4db3-8cbc-d705612d840e",
   "metadata": {},
   "source": [
    "- To print the index number "
   ]
  },
  {
   "cell_type": "code",
   "execution_count": 18,
   "id": "010cc0b4-f565-4b25-992e-ca9fe5f8de4d",
   "metadata": {},
   "outputs": [
    {
     "name": "stdout",
     "output_type": "stream",
     "text": [
      "(array([1, 2, 3, 4, 5, 6, 7]), array([0, 1, 2, 3, 5, 7, 9], dtype=int64))\n"
     ]
    }
   ],
   "source": [
    "x = np.unique(var1, return_index=True)\n",
    "print(x)"
   ]
  },
  {
   "cell_type": "markdown",
   "id": "f83ab8d8-1a82-41aa-ac97-c546947896c6",
   "metadata": {},
   "source": [
    "- To print counting of the elements"
   ]
  },
  {
   "cell_type": "code",
   "execution_count": 21,
   "id": "ee34b667-4403-4cc2-bddc-f86a385c0750",
   "metadata": {},
   "outputs": [
    {
     "name": "stdout",
     "output_type": "stream",
     "text": [
      "(array([1, 2, 3, 4, 5, 6, 7]), array([0, 1, 2, 3, 5, 7, 9], dtype=int64), array([1, 4, 1, 1, 1, 1, 1], dtype=int64))\n"
     ]
    }
   ],
   "source": [
    "x = np.unique(var1, return_index=True, return_counts=True)\n",
    "print(x)"
   ]
  },
  {
   "cell_type": "markdown",
   "id": "a5111cef-d719-4621-872c-4a0722ecb3d2",
   "metadata": {},
   "source": [
    "## 3. Resize :- Change the size of array"
   ]
  },
  {
   "cell_type": "code",
   "execution_count": 34,
   "id": "740149b8-ed36-4d7b-969d-7c14b9455d5c",
   "metadata": {},
   "outputs": [
    {
     "name": "stdout",
     "output_type": "stream",
     "text": [
      "[[1 2 3]\n",
      " [4 5 6]]\n"
     ]
    }
   ],
   "source": [
    "var2 = np.array([1,2,3,4,5,6])\n",
    "\n",
    "y = np.resize(var2,(2,3)) # 2 rows and 3 columns\n",
    "\n",
    "print(y)"
   ]
  },
  {
   "cell_type": "markdown",
   "id": "65ddb055-108f-40d2-ac3b-43027efcd411",
   "metadata": {},
   "source": [
    "## 4. Flatten :- Convert 2-D to 1-D array\n",
    "- Always returns a copy of the array.\n",
    "- Any changes made to the flattened array do NOT affect the original array.\n",
    "- Slower compared to ravel() because it allocates new memory."
   ]
  },
  {
   "cell_type": "code",
   "execution_count": 46,
   "id": "d052fd53-fd74-4bba-82d3-bba158565306",
   "metadata": {},
   "outputs": [
    {
     "name": "stdout",
     "output_type": "stream",
     "text": [
      "[[9 3]\n",
      " [5 4]\n",
      " [4 2]]\n",
      "\n",
      "[9 3 5 4 4 2]\n"
     ]
    }
   ],
   "source": [
    "var3 = np.array([[9,3],[5,4],[4,2]])\n",
    "print(var3)\n",
    "print()\n",
    "\n",
    "print(var3.flatten()) # It will do row wise"
   ]
  },
  {
   "cell_type": "markdown",
   "id": "b5212923-7f47-4f14-b5ff-530d3fdc956e",
   "metadata": {},
   "source": [
    "#### Order for the Flatten\n",
    "Order : {'C', 'F', 'A', 'K'}, Optional  \n",
    "\n",
    "- **'C'** means to flatten in row-major (C-style) order.  \n",
    "\n",
    "- **'F'** means to flatten in column-major (Fortran-style) order.  \n",
    "\n",
    "- **'A'** means to flatten in column-major order if `a` is Fortran *contiguous*  \n",
    "  in memory, row-major order otherwise.  \n",
    "\n",
    "- **'K'** means to flatten `a` in the order the elements occur in memory.  \n",
    "\n",
    "- The default is **'C'**.  \n"
   ]
  },
  {
   "cell_type": "code",
   "execution_count": 52,
   "id": "d8a75927-eb0f-4a53-93a8-5f8902d144dc",
   "metadata": {},
   "outputs": [
    {
     "name": "stdout",
     "output_type": "stream",
     "text": [
      "[[9 3]\n",
      " [5 4]\n",
      " [4 2]]\n",
      "\n",
      "[9 5 4 3 4 2]\n"
     ]
    }
   ],
   "source": [
    "print(var3)\n",
    "print()\n",
    "print(var3.flatten(order=\"F\"))"
   ]
  },
  {
   "cell_type": "markdown",
   "id": "18ae1ef7-0ca0-484b-adb3-356fe317ce2b",
   "metadata": {},
   "source": [
    "## 5. Ravel :- It is similar to the flatten\n",
    "- Returns a view (reference) of the array whenever possible.\n",
    "- If a view is returned, changes in the raveled array WILL affect the original array.\n",
    "- If not possible, it returns a copy.\n",
    "- Faster, more memory-efficient."
   ]
  },
  {
   "cell_type": "code",
   "execution_count": 63,
   "id": "9a2f6d8e-d24c-4881-a9ec-4d4607eb9a2f",
   "metadata": {},
   "outputs": [
    {
     "name": "stdout",
     "output_type": "stream",
     "text": [
      "[[9 2]\n",
      " [5 4]\n",
      " [4 2]]\n",
      "\n",
      "[9 5 4 2 4 2]\n"
     ]
    }
   ],
   "source": [
    "var4 = np.array([[9,2],[5,4],[4,2]])\n",
    "print(var4)\n",
    "print()\n",
    "\n",
    "print(var4.ravel(order=\"F\"))"
   ]
  },
  {
   "cell_type": "code",
   "execution_count": null,
   "id": "064119fc-94b4-44de-a1e2-063efbdee2c7",
   "metadata": {},
   "outputs": [],
   "source": []
  }
 ],
 "metadata": {
  "kernelspec": {
   "display_name": "Python [conda env:base] *",
   "language": "python",
   "name": "conda-base-py"
  },
  "language_info": {
   "codemirror_mode": {
    "name": "ipython",
    "version": 3
   },
   "file_extension": ".py",
   "mimetype": "text/x-python",
   "name": "python",
   "nbconvert_exporter": "python",
   "pygments_lexer": "ipython3",
   "version": "3.12.7"
  }
 },
 "nbformat": 4,
 "nbformat_minor": 5
}
