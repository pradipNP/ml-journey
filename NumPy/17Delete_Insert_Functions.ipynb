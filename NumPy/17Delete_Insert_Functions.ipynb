{
 "cells": [
  {
   "cell_type": "markdown",
   "id": "73d2bffc-19d1-46d7-ab0b-2ae1a049415a",
   "metadata": {},
   "source": [
    "# Insert\n",
    "- insert(array, (index_numbers), element))\n",
    "### 1-D"
   ]
  },
  {
   "cell_type": "code",
   "execution_count": 36,
   "id": "dba9a360-8ee5-4326-927a-6e0abb552a33",
   "metadata": {},
   "outputs": [
    {
     "name": "stdout",
     "output_type": "stream",
     "text": [
      "[1 2 3 4]\n",
      "\n",
      "[ 1  2 40  3  4]\n"
     ]
    }
   ],
   "source": [
    "import numpy as np\n",
    "\n",
    "var = np.array([1,2,3,4])\n",
    "print(var)\n",
    "print()\n",
    "\n",
    "v = np.insert(var, 2, 40)\n",
    "\n",
    "# or we can use append funcction\n",
    "# v1 = np.append(var, 40)\n",
    "\n",
    "print(v)"
   ]
  },
  {
   "cell_type": "code",
   "execution_count": 38,
   "id": "0caa8e34-37df-480e-a181-8619feb5b632",
   "metadata": {},
   "outputs": [
    {
     "name": "stdout",
     "output_type": "stream",
     "text": [
      "[ 1 50  2 40  3  4]\n"
     ]
    }
   ],
   "source": [
    "w = np.insert(var, (1,2), (50,40))\n",
    "print(w)"
   ]
  },
  {
   "cell_type": "markdown",
   "id": "f454b15d-21a4-4f7e-bb69-38bbc030ca43",
   "metadata": {},
   "source": [
    "- If we provide float value, then it will not accept but converts into the integer"
   ]
  },
  {
   "cell_type": "code",
   "execution_count": 41,
   "id": "09a6af68-e615-4191-b228-7e4e9ac0fded",
   "metadata": {},
   "outputs": [
    {
     "name": "stdout",
     "output_type": "stream",
     "text": [
      "[ 1 56  2 56  3  4]\n"
     ]
    }
   ],
   "source": [
    "x = np.insert(var, (1,2), 56.7)\n",
    "print(x)"
   ]
  },
  {
   "cell_type": "markdown",
   "id": "a557b139-9f80-4aad-8853-d147b6570e15",
   "metadata": {},
   "source": [
    "## 2-D\n",
    "- insert(array, index, element, axis) :- axis 0 means rows, 1 means columns "
   ]
  },
  {
   "cell_type": "code",
   "execution_count": 44,
   "id": "56c568ac-e882-4afc-8c24-c65dd7d22325",
   "metadata": {},
   "outputs": [
    {
     "name": "stdout",
     "output_type": "stream",
     "text": [
      "[[ 1  2 60  3]\n",
      " [ 1  2 60  3]]\n"
     ]
    }
   ],
   "source": [
    "var1 = np.array([[1,2,3],[1,2,3]])\n",
    "\n",
    "v1 = np.insert( var1, 2, 60, axis = 1)\n",
    "\n",
    "# or we can use append funcction\n",
    "# v1 = np.append(var1, [[45,44,23]], axis=1)\n",
    "\n",
    "print(v1)"
   ]
  },
  {
   "cell_type": "markdown",
   "id": "61f902cb-8c4c-4db1-ba6f-3558846a99ec",
   "metadata": {},
   "source": [
    "# Delete"
   ]
  },
  {
   "cell_type": "code",
   "execution_count": 49,
   "id": "760aeda8-e84e-4f1b-adb3-28a2cdf0bdb5",
   "metadata": {},
   "outputs": [
    {
     "name": "stdout",
     "output_type": "stream",
     "text": [
      "[1 2 3 4]\n",
      "\n",
      "[1 2 4]\n"
     ]
    }
   ],
   "source": [
    "import numpy as np\n",
    "\n",
    "var1 = np.array([1,2,3,4])\n",
    "print(var1)\n",
    "print()\n",
    "\n",
    "d = np.delete(var1,2)\n",
    "print(d)\n"
   ]
  },
  {
   "cell_type": "code",
   "execution_count": null,
   "id": "3ddb1355-98d4-471b-b3ed-b439fdc963c3",
   "metadata": {},
   "outputs": [],
   "source": []
  }
 ],
 "metadata": {
  "kernelspec": {
   "display_name": "Python [conda env:base] *",
   "language": "python",
   "name": "conda-base-py"
  },
  "language_info": {
   "codemirror_mode": {
    "name": "ipython",
    "version": 3
   },
   "file_extension": ".py",
   "mimetype": "text/x-python",
   "name": "python",
   "nbconvert_exporter": "python",
   "pygments_lexer": "ipython3",
   "version": "3.12.7"
  }
 },
 "nbformat": 4,
 "nbformat_minor": 5
}
