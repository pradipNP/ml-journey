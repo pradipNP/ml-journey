{
 "cells": [
  {
   "cell_type": "markdown",
   "id": "3fa32c22-6a0b-436f-9366-9d2aa7be76e3",
   "metadata": {},
   "source": [
    "# Iteration of array using:\n",
    "1) loop\n",
    "2) function"
   ]
  },
  {
   "cell_type": "markdown",
   "id": "47d61aef-f156-4d4a-8ea9-598a38fb1e98",
   "metadata": {},
   "source": [
    "# 1. loop\n",
    "#### 1-D"
   ]
  },
  {
   "cell_type": "code",
   "execution_count": 9,
   "id": "9627e991-a605-4328-90d4-1e0be1757430",
   "metadata": {},
   "outputs": [
    {
     "name": "stdout",
     "output_type": "stream",
     "text": [
      "[9 8 7 6 5 4]\n",
      "\n",
      "9\n",
      "8\n",
      "7\n",
      "6\n",
      "5\n",
      "4\n"
     ]
    }
   ],
   "source": [
    "import numpy as np\n",
    "\n",
    "var = np.array([9,8,7,6,5,4])\n",
    "print(var)\n",
    "print()\n",
    "\n",
    "for i in var:\n",
    "    print(i)"
   ]
  },
  {
   "cell_type": "markdown",
   "id": "25e2813b-c9fb-4a95-ba00-b19e03ad6fb6",
   "metadata": {},
   "source": [
    "#### 2-D"
   ]
  },
  {
   "cell_type": "code",
   "execution_count": 12,
   "id": "42a8ee0e-b1b7-4fa3-86ca-2b9e73072c3d",
   "metadata": {},
   "outputs": [
    {
     "name": "stdout",
     "output_type": "stream",
     "text": [
      "[[9 8 2 4]\n",
      " [1 2 3 4]]\n",
      "\n",
      "9\n",
      "8\n",
      "2\n",
      "4\n",
      "1\n",
      "2\n",
      "3\n",
      "4\n"
     ]
    }
   ],
   "source": [
    "var1 = np.array([[9,8,2,4],[1,2,3,4]])\n",
    "print(var1)\n",
    "print()\n",
    "\n",
    "for k in var1:\n",
    "    for l in k:\n",
    "        print(l)"
   ]
  },
  {
   "cell_type": "markdown",
   "id": "9417f324-e9e2-41de-9354-549292bd8b4a",
   "metadata": {},
   "source": [
    "#### 3-D "
   ]
  },
  {
   "cell_type": "code",
   "execution_count": 21,
   "id": "1d16b2f6-8074-4767-ba6c-48e270645026",
   "metadata": {},
   "outputs": [
    {
     "name": "stdout",
     "output_type": "stream",
     "text": [
      "[[[1 2 3 4]\n",
      "  [4 2 7 5]]]\n",
      "3\n",
      "\n",
      "1\n",
      "2\n",
      "3\n",
      "4\n",
      "4\n",
      "2\n",
      "7\n",
      "5\n"
     ]
    }
   ],
   "source": [
    "var3 = np.array([[[1,2,3,4],[4,2,7,5]]])\n",
    "print(var3)\n",
    "print(var3.ndim)\n",
    "print()\n",
    "\n",
    "for i in var3:\n",
    "    for j in i:\n",
    "        for k in j:\n",
    "            print(k)"
   ]
  },
  {
   "cell_type": "markdown",
   "id": "759d93dd-c293-4324-a4ba-e69e4570a0a9",
   "metadata": {},
   "source": [
    "# 2. Function\n",
    "- nditer()"
   ]
  },
  {
   "cell_type": "code",
   "execution_count": 28,
   "id": "805fd35b-0658-4b3f-b1c5-239337206e95",
   "metadata": {},
   "outputs": [
    {
     "name": "stdout",
     "output_type": "stream",
     "text": [
      "[[[1 2 3 4]\n",
      "  [4 2 7 5]]]\n",
      "3\n",
      "\n",
      "1\n",
      "2\n",
      "3\n",
      "4\n",
      "4\n",
      "2\n",
      "7\n",
      "5\n"
     ]
    }
   ],
   "source": [
    "var3 = np.array([[[1,2,3,4],[4,2,7,5]]])\n",
    "print(var3)\n",
    "print(var3.ndim)\n",
    "print()\n",
    "\n",
    "for i in np.nditer(var3):\n",
    "    print(i)"
   ]
  },
  {
   "cell_type": "code",
   "execution_count": 30,
   "id": "d11e3c04-e34d-44fb-80aa-2d1c026ced85",
   "metadata": {},
   "outputs": [
    {
     "name": "stdout",
     "output_type": "stream",
     "text": [
      "[[[1 2 3 4]\n",
      "  [4 2 7 5]]]\n",
      "3\n",
      "\n",
      "b'1'\n",
      "b'2'\n",
      "b'3'\n",
      "b'4'\n",
      "b'4'\n",
      "b'2'\n",
      "b'7'\n",
      "b'5'\n"
     ]
    }
   ],
   "source": [
    "# For data type change\n",
    "\n",
    "var3 = np.array([[[1,2,3,4],[4,2,7,5]]])\n",
    "print(var3)\n",
    "print(var3.ndim)\n",
    "print()\n",
    "\n",
    "for i in np.nditer(var3, flags=[\"buffered\"],op_dtypes=[\"S\"]): # Buffered means a storage is created to store the data, & \"S\" is for the data type conversion in the String\n",
    "    print(i)"
   ]
  },
  {
   "cell_type": "markdown",
   "id": "24554280-1fa0-4c0f-b293-293753083c5e",
   "metadata": {},
   "source": [
    "#### Iterate with indexing number using a function:\n",
    "- ndenumerate()"
   ]
  },
  {
   "cell_type": "code",
   "execution_count": 37,
   "id": "11965e28-0f57-4683-9812-a0e825467686",
   "metadata": {},
   "outputs": [
    {
     "name": "stdout",
     "output_type": "stream",
     "text": [
      "[[[1 2 3 4]\n",
      "  [4 2 7 5]]]\n",
      "3\n",
      "\n",
      "((0, 0, 0), 1)\n",
      "((0, 0, 1), 2)\n",
      "((0, 0, 2), 3)\n",
      "((0, 0, 3), 4)\n",
      "((0, 1, 0), 4)\n",
      "((0, 1, 1), 2)\n",
      "((0, 1, 2), 7)\n",
      "((0, 1, 3), 5)\n"
     ]
    }
   ],
   "source": [
    "# Iterate with indexing number too\n",
    "\n",
    "var3 = np.array([[[1,2,3,4],[4,2,7,5]]])\n",
    "print(var3)\n",
    "print(var3.ndim)\n",
    "print()\n",
    "\n",
    "for i in np.ndenumerate(var3):\n",
    "    print(i)"
   ]
  },
  {
   "cell_type": "code",
   "execution_count": null,
   "id": "02be7771-8beb-4f05-a78d-59c3df621a9f",
   "metadata": {},
   "outputs": [],
   "source": []
  }
 ],
 "metadata": {
  "kernelspec": {
   "display_name": "Python [conda env:base] *",
   "language": "python",
   "name": "conda-base-py"
  },
  "language_info": {
   "codemirror_mode": {
    "name": "ipython",
    "version": 3
   },
   "file_extension": ".py",
   "mimetype": "text/x-python",
   "name": "python",
   "nbconvert_exporter": "python",
   "pygments_lexer": "ipython3",
   "version": "3.12.7"
  }
 },
 "nbformat": 4,
 "nbformat_minor": 5
}
