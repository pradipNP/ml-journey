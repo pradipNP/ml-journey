{
 "cells": [
  {
   "cell_type": "markdown",
   "id": "f57528d2-ebcc-4f1a-bd8c-732f97598a64",
   "metadata": {},
   "source": [
    "# NumPy Arrays Functions \n",
    "- (Search, Sort, Search Sorted, Filter)"
   ]
  },
  {
   "cell_type": "markdown",
   "id": "cc1dd2a5-ac8e-40b5-a7db-be70b4ea0a4c",
   "metadata": {},
   "source": [
    "## 1. Search Array :- Search an array for a certain value, and return the indexes that get a match\n",
    "- Note: we use \"where\" keyword for the searching i.e where()"
   ]
  },
  {
   "cell_type": "code",
   "execution_count": 5,
   "id": "a53379ac-4d99-47ae-919e-2e6dca62e56e",
   "metadata": {},
   "outputs": [
    {
     "name": "stdout",
     "output_type": "stream",
     "text": [
      "(array([1, 4], dtype=int64),)\n"
     ]
    }
   ],
   "source": [
    "import numpy as np\n",
    "\n",
    "var = np.array([1,2,3,4,2,5,2,5,6,7])\n",
    "# indexes       0,1,2,3,4,5,6,7,8,9\n",
    "\n",
    "x = np.where( var == 2)\n",
    "\n",
    "print(x)"
   ]
  },
  {
   "cell_type": "code",
   "execution_count": 9,
   "id": "27f98406-d024-4475-b3fc-ed406deff4d2",
   "metadata": {},
   "outputs": [
    {
     "name": "stdout",
     "output_type": "stream",
     "text": [
      "(array([0, 1, 3, 4, 6, 8], dtype=int64),)\n"
     ]
    }
   ],
   "source": [
    "var = np.array([4,2,3,4,2,5,2,5,6,7])\n",
    "# indexes       0,1,2,3,4,5,6,7,8,9\n",
    "\n",
    "x = np.where( var%2 == 0)\n",
    "\n",
    "print(x)"
   ]
  },
  {
   "cell_type": "markdown",
   "id": "c323aae9-a2bf-419a-83b5-d67de4dadc64",
   "metadata": {},
   "source": [
    "## 2. Search Sorted Array: which performs a binary search in the array, and returns the index where the specified value would be inserted to maintain the search order.\n",
    "- searchsorted(array, element_to_put_inside_the_array) ===> This will show the possible position for the element in the array by returning the index no."
   ]
  },
  {
   "cell_type": "code",
   "execution_count": 18,
   "id": "25db2ed3-f87c-4831-8fca-ce97a0c5ffe1",
   "metadata": {},
   "outputs": [
    {
     "name": "stdout",
     "output_type": "stream",
     "text": [
      "4\n"
     ]
    }
   ],
   "source": [
    "var1 = np.array([1,2,3,4,6,7,8])\n",
    "# indexes        0,1,2,3,4,5,6\n",
    "\n",
    "x1 = np.searchsorted(var1, 5) # 5 is possible at index 4 in the above sorted array\n",
    "\n",
    "print(x1)"
   ]
  },
  {
   "cell_type": "markdown",
   "id": "f6226570-f40e-4eaa-8c72-56590d393d9f",
   "metadata": {},
   "source": [
    "- we can use \"side\" parameter which is optional : It means it will search from right side to left"
   ]
  },
  {
   "cell_type": "code",
   "execution_count": 20,
   "id": "f024877a-2e1a-4dba-8525-2976ebda3857",
   "metadata": {},
   "outputs": [
    {
     "name": "stdout",
     "output_type": "stream",
     "text": [
      "4\n"
     ]
    }
   ],
   "source": [
    "var2 = np.array([1,2,3,4,6,7,8,9,10,11,12])\n",
    "# indexes        0,1,2,3,4,5,6,7,8,9,10,11\n",
    "\n",
    "x2 = np.searchsorted(var1, 5, side=\"right\") \n",
    "print(x2)"
   ]
  },
  {
   "cell_type": "markdown",
   "id": "5cac665b-05fa-4401-b447-b227755f626a",
   "metadata": {},
   "source": [
    "- we can provide the list too for the searching "
   ]
  },
  {
   "cell_type": "code",
   "execution_count": 30,
   "id": "b17dd596-10cc-4a5b-bc09-0b1ac3380ed5",
   "metadata": {},
   "outputs": [
    {
     "name": "stdout",
     "output_type": "stream",
     "text": [
      "[4 5 3]\n"
     ]
    }
   ],
   "source": [
    "var3 = np.array([1,2,3,4,6,7,8,9,10,11])\n",
    "# indexes        0,1,2,3,4,5,6,7,8,9\n",
    "\n",
    "x3 = np.searchsorted(var3, [5,6,3] , side=\"right\") \n",
    "print(x3)"
   ]
  },
  {
   "cell_type": "markdown",
   "id": "062387e9-4857-4d27-826b-00290855d5e1",
   "metadata": {},
   "source": [
    "## 3. Sort Array: Ordered sequence is any sequence that has an order corresponding to elements, like numeric or alphabetical, ascending or descending."
   ]
  },
  {
   "cell_type": "markdown",
   "id": "47a0a932-3254-47e9-a5fe-72566b702f55",
   "metadata": {},
   "source": [
    "- For numeric"
   ]
  },
  {
   "cell_type": "code",
   "execution_count": 42,
   "id": "52e996f4-de65-4130-a217-b5c555ff4247",
   "metadata": {},
   "outputs": [
    {
     "name": "stdout",
     "output_type": "stream",
     "text": [
      "[ 1  2  3  4  6  8  9 10 10 11 11]\n"
     ]
    }
   ],
   "source": [
    "var4 = np.array([4,2,3,11,6,10,8,9,10,11,1])\n",
    "\n",
    "x4 = np.sort(var4)\n",
    "print(x4)\n",
    "\n",
    "# or we can direct print \n",
    "# print(np.sort(var4))"
   ]
  },
  {
   "cell_type": "markdown",
   "id": "4e4522b2-9687-48de-aa1a-13829f7574c1",
   "metadata": {},
   "source": [
    "- For alphabet"
   ]
  },
  {
   "cell_type": "code",
   "execution_count": 45,
   "id": "ba55e0eb-541e-465d-adc0-4be6e505b9af",
   "metadata": {},
   "outputs": [
    {
     "name": "stdout",
     "output_type": "stream",
     "text": [
      "['a' 'd' 'f' 's']\n"
     ]
    }
   ],
   "source": [
    "var5 = np.array([\"a\",\"s\",\"d\",\"f\"])\n",
    "\n",
    "print(np.sort(var5))"
   ]
  },
  {
   "cell_type": "markdown",
   "id": "2018165e-684b-4d35-92f8-0052d5ebcba4",
   "metadata": {},
   "source": [
    "- For 2-D array"
   ]
  },
  {
   "cell_type": "code",
   "execution_count": 52,
   "id": "2ec8ead0-bac8-44a1-9e01-96bed626f4da",
   "metadata": {},
   "outputs": [
    {
     "name": "stdout",
     "output_type": "stream",
     "text": [
      "[[ 4  6 31]\n",
      " [ 7 10 90]\n",
      " [ 1 10 12]]\n"
     ]
    }
   ],
   "source": [
    "var6 = np.array([[31,4,6],[7,90,10],[10,1,12]])\n",
    "\n",
    "print(np.sort(var6))"
   ]
  },
  {
   "cell_type": "markdown",
   "id": "0b32c418-2a6b-4561-a277-d7be745cbf31",
   "metadata": {},
   "source": [
    "## Filter Array: Getting some elements out of an existing array and creating a new array out of them.\n",
    "- we have to pass the True or False according to the index number: True means to have the element filtered and False means the element which we don't want to have in new array"
   ]
  },
  {
   "cell_type": "code",
   "execution_count": 56,
   "id": "b8e95995-fc24-406c-a266-1b9f8e7340f9",
   "metadata": {},
   "outputs": [
    {
     "name": "stdout",
     "output_type": "stream",
     "text": [
      "['a' 'f']\n"
     ]
    }
   ],
   "source": [
    "arr = np.array([\"a\",\"s\",\"d\",\"f\"])\n",
    "\n",
    "fil = [True,False,False,True] \n",
    "\n",
    "new_arr = arr[fil]\n",
    "\n",
    "print(new_arr)"
   ]
  },
  {
   "cell_type": "code",
   "execution_count": null,
   "id": "c927aad3-c883-4ed3-af26-7308cbb44365",
   "metadata": {},
   "outputs": [],
   "source": []
  }
 ],
 "metadata": {
  "kernelspec": {
   "display_name": "Python [conda env:base] *",
   "language": "python",
   "name": "conda-base-py"
  },
  "language_info": {
   "codemirror_mode": {
    "name": "ipython",
    "version": 3
   },
   "file_extension": ".py",
   "mimetype": "text/x-python",
   "name": "python",
   "nbconvert_exporter": "python",
   "pygments_lexer": "ipython3",
   "version": "3.12.7"
  }
 },
 "nbformat": 4,
 "nbformat_minor": 5
}
