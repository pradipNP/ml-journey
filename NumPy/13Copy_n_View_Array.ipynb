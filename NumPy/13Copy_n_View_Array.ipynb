{
 "cells": [
  {
   "cell_type": "markdown",
   "id": "3eec9aa1-8aef-4354-804e-beefc8a48011",
   "metadata": {},
   "source": [
    "# Copy"
   ]
  },
  {
   "cell_type": "code",
   "execution_count": 4,
   "id": "430c9175-13f2-479d-957f-a4471e30214c",
   "metadata": {},
   "outputs": [
    {
     "name": "stdout",
     "output_type": "stream",
     "text": [
      "Original:  [1 2 3 4]\n",
      "Copy:  [1 2 3 4]\n"
     ]
    }
   ],
   "source": [
    "import numpy as np\n",
    "var = np.array([1,2,3,4])\n",
    "\n",
    "co = var.copy()\n",
    "\n",
    "print(\"Original: \",var)\n",
    "print(\"Copy: \", co)"
   ]
  },
  {
   "cell_type": "markdown",
   "id": "35bc0332-f40c-4403-974b-3cc0e097bfa1",
   "metadata": {},
   "source": [
    "# View"
   ]
  },
  {
   "cell_type": "code",
   "execution_count": 7,
   "id": "aa787973-0e8e-4bad-ae7b-32a69c430ac0",
   "metadata": {},
   "outputs": [
    {
     "name": "stdout",
     "output_type": "stream",
     "text": [
      "x:  [9 8 7 6 5]\n",
      "view:  [9 8 7 6 5]\n"
     ]
    }
   ],
   "source": [
    "x = np.array([9,8,7,6,5])\n",
    "\n",
    "vi = x.view()\n",
    "\n",
    "print(\"x: \", x)\n",
    "print(\"view: \",vi)"
   ]
  },
  {
   "cell_type": "markdown",
   "id": "915abd33-7e20-45c7-85fe-d35c244dd2d2",
   "metadata": {},
   "source": [
    "# Difference between copy and view\n",
    "<div style=\"Text-align: center;\">\n",
    "    <img src=\"Images\\copy_view_difference.png\" alt=\"Copy vs View\" width=\"500\"/>\n",
    "</div>"
   ]
  },
  {
   "cell_type": "code",
   "execution_count": 20,
   "id": "7ad1cd56-2c34-4bad-a6ba-bb2e5aa43595",
   "metadata": {},
   "outputs": [
    {
     "name": "stdout",
     "output_type": "stream",
     "text": [
      "Original:  [1 2 3 4]\n",
      "Copy:  [1 2 3 4]\n",
      "\n",
      "Updated:  [ 1 80  3  4]\n",
      "Copy:  [1 2 3 4]\n"
     ]
    }
   ],
   "source": [
    "var = np.array([1,2,3,4])\n",
    "\n",
    "co = var.copy()\n",
    "\n",
    "print(\"Original: \",var)\n",
    "print(\"Copy: \", co)\n",
    "print()\n",
    "\n",
    "#Let we change the original data\n",
    "var[1] = 80\n",
    "print(\"Updated: \",var)\n",
    "print(\"Copy: \", co) #It shows the previous copied values"
   ]
  },
  {
   "cell_type": "code",
   "execution_count": 24,
   "id": "709c9a56-7d13-4092-bdd3-92d9ea89cb03",
   "metadata": {},
   "outputs": [
    {
     "name": "stdout",
     "output_type": "stream",
     "text": [
      "x:  [9 8 7 6 5]\n",
      "view:  [9 8 7 6 5]\n",
      "\n",
      "Updated x:  [ 9  8 90  6  5]\n",
      "view:  [ 9  8 90  6  5]\n"
     ]
    }
   ],
   "source": [
    "x = np.array([9,8,7,6,5])\n",
    "\n",
    "vi = x.view()\n",
    "\n",
    "print(\"x: \", x)\n",
    "print(\"view: \",vi)\n",
    "print()\n",
    "\n",
    "# Let we change the original value\n",
    "x[2] = 90\n",
    "print(\"Updated x: \", x)\n",
    "print(\"view: \",vi) # It shows the updated array"
   ]
  },
  {
   "cell_type": "code",
   "execution_count": null,
   "id": "d3dd3c11-c18d-462c-bdc8-c6fbb4dd248f",
   "metadata": {},
   "outputs": [],
   "source": []
  }
 ],
 "metadata": {
  "kernelspec": {
   "display_name": "Python [conda env:base] *",
   "language": "python",
   "name": "conda-base-py"
  },
  "language_info": {
   "codemirror_mode": {
    "name": "ipython",
    "version": 3
   },
   "file_extension": ".py",
   "mimetype": "text/x-python",
   "name": "python",
   "nbconvert_exporter": "python",
   "pygments_lexer": "ipython3",
   "version": "3.12.7"
  }
 },
 "nbformat": 4,
 "nbformat_minor": 5
}
