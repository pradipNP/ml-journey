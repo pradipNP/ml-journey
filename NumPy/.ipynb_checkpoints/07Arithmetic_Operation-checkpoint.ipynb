{
 "cells": [
  {
   "cell_type": "markdown",
   "id": "59951609-7706-43d6-869b-2ecb78a020c5",
   "metadata": {},
   "source": [
    "# Arithmetic Operation in Numpy Arrays\n",
    "| Operation | Expression | Numpy Function      |\n",
    "|-----------|------------|---------------------|\n",
    "| Addition  | a + b      | np.add(a,b)         |\n",
    "| Subtract  | a - b      | np.subtract(a,b)    |\n",
    "| Multiply  | a * b      | np.multiply(a, b)   |\n",
    "| Divide    | a / b      | np.divide(a, b)     |\n",
    "| Modulus   | a % b      | np.mod(a, b)        |\n",
    "| Power     | a ** b     | np.power(a, b)      |\n",
    "| Reciprocal| 1 / a      | np.reciprocal(a)    |"
   ]
  },
  {
   "cell_type": "markdown",
   "id": "dc555d1f-ace8-472e-b8e0-4ca69f8507e7",
   "metadata": {},
   "source": [
    "## For 1-Dimension Array"
   ]
  },
  {
   "cell_type": "code",
   "execution_count": 27,
   "id": "030cb7cc-495b-4f70-baf7-5a63f446b9a4",
   "metadata": {},
   "outputs": [],
   "source": [
    "import numpy as np"
   ]
  },
  {
   "cell_type": "markdown",
   "id": "c72e35bd-c3b9-4e6e-878a-848812592c7c",
   "metadata": {},
   "source": [
    "### 1. Addition"
   ]
  },
  {
   "cell_type": "code",
   "execution_count": 35,
   "id": "c6872175-4426-4017-83c5-3148683cd720",
   "metadata": {},
   "outputs": [
    {
     "name": "stdout",
     "output_type": "stream",
     "text": [
      "[4 5 6 7]\n"
     ]
    }
   ],
   "source": [
    "\n",
    "# Single number addition using expression\n",
    "\n",
    "var = np.array([1,2,3,4])\n",
    "\n",
    "varadd = var + 3\n",
    "\n",
    "print(varadd)"
   ]
  },
  {
   "cell_type": "code",
   "execution_count": 37,
   "id": "f77ae8ba-7951-4bff-8923-707db5ff38b0",
   "metadata": {},
   "outputs": [
    {
     "name": "stdout",
     "output_type": "stream",
     "text": [
      "[4 5 6 7]\n"
     ]
    }
   ],
   "source": [
    "# Single number addition using function\n",
    "\n",
    "var = np.array([1,2,3,4])\n",
    "\n",
    "varadd = np.add(var,3)\n",
    "\n",
    "print(varadd)"
   ]
  },
  {
   "cell_type": "code",
   "execution_count": 39,
   "id": "4a6e878e-45df-45f0-aa90-eb966e808a41",
   "metadata": {},
   "outputs": [
    {
     "name": "stdout",
     "output_type": "stream",
     "text": [
      "[2 4 6 8]\n"
     ]
    }
   ],
   "source": [
    "# Sum of two arrays using expression\n",
    "\n",
    "var1 = np.array([1,2,3,4])\n",
    "var2 = np.array([1,2,3,4])\n",
    "\n",
    "varadd = var1 + var2\n",
    "\n",
    "print(varadd)"
   ]
  },
  {
   "cell_type": "code",
   "execution_count": 41,
   "id": "f40a4314-a108-4bda-8215-ff84de99f43d",
   "metadata": {},
   "outputs": [
    {
     "name": "stdout",
     "output_type": "stream",
     "text": [
      "[2 4 6 8]\n"
     ]
    }
   ],
   "source": [
    "# using Function of array\n",
    "\n",
    "var1 = np.array([1,2,3,4])\n",
    "var2 = np.array([1,2,3,4])\n",
    "\n",
    "varadd = np.add(var1, var2)\n",
    "\n",
    "print(varadd)"
   ]
  },
  {
   "cell_type": "markdown",
   "id": "e29cbc55-c3c1-490f-b0f2-83819075266f",
   "metadata": {},
   "source": [
    "### 2. Subtract"
   ]
  },
  {
   "cell_type": "code",
   "execution_count": 44,
   "id": "448b36dd-9448-42fd-8d62-abd1e999d68c",
   "metadata": {},
   "outputs": [
    {
     "name": "stdout",
     "output_type": "stream",
     "text": [
      "[-2 -1  0  1]\n"
     ]
    }
   ],
   "source": [
    "# Using Expression\n",
    "\n",
    "var = np.array([1,2,3,4])\n",
    "varadd = var - 3\n",
    "\n",
    "print(varadd)"
   ]
  },
  {
   "cell_type": "code",
   "execution_count": 53,
   "id": "8f34f34b-0452-4320-a039-bb73c4af6a62",
   "metadata": {},
   "outputs": [
    {
     "name": "stdout",
     "output_type": "stream",
     "text": [
      "[-2 -1  0  1]\n"
     ]
    }
   ],
   "source": [
    "# Using Function\n",
    "var = np.array([1,2,3,4])\n",
    "varadd = np.subtract(var,3)\n",
    "\n",
    "print(varadd)"
   ]
  },
  {
   "cell_type": "markdown",
   "id": "8b792a0f-c5ff-4a8d-be85-14b257baa02a",
   "metadata": {},
   "source": [
    "### 3. Multiply"
   ]
  },
  {
   "cell_type": "code",
   "execution_count": 56,
   "id": "402e3591-bbba-4940-8b60-5e98e0067582",
   "metadata": {},
   "outputs": [
    {
     "name": "stdout",
     "output_type": "stream",
     "text": [
      "[ 3  6  9 12]\n"
     ]
    }
   ],
   "source": [
    "# Using Expression\n",
    "\n",
    "var = np.array([1,2,3,4])\n",
    "varadd = var * 3\n",
    "\n",
    "print(varadd)"
   ]
  },
  {
   "cell_type": "code",
   "execution_count": 58,
   "id": "1e234304-8688-4dd9-9b82-521144db4717",
   "metadata": {},
   "outputs": [
    {
     "name": "stdout",
     "output_type": "stream",
     "text": [
      "[ 3  6  9 12]\n"
     ]
    }
   ],
   "source": [
    "# Using Function\n",
    "var = np.array([1,2,3,4])\n",
    "varadd = np.multiply(var,3)\n",
    "\n",
    "print(varadd)"
   ]
  },
  {
   "cell_type": "markdown",
   "id": "3e06035f-2d72-4704-8e8b-e11e20babd25",
   "metadata": {},
   "source": [
    "### 4. Divide"
   ]
  },
  {
   "cell_type": "code",
   "execution_count": 16,
   "id": "87b5c136-2f30-488e-aadd-4a853321cebf",
   "metadata": {},
   "outputs": [
    {
     "name": "stdout",
     "output_type": "stream",
     "text": [
      "[0.33333333 0.66666667 1.         1.33333333]\n"
     ]
    }
   ],
   "source": [
    "# Using expression\n",
    "\n",
    "var = np.array([1,2,3,4])\n",
    "varadd = var / 3\n",
    "\n",
    "print(varadd)"
   ]
  },
  {
   "cell_type": "code",
   "execution_count": 63,
   "id": "7037cac5-28c3-4fc7-be21-16e3ed1f011a",
   "metadata": {},
   "outputs": [
    {
     "name": "stdout",
     "output_type": "stream",
     "text": [
      "[0.33333333 0.66666667 1.         1.33333333]\n"
     ]
    }
   ],
   "source": [
    "# Using Function\n",
    "\n",
    "var = np.array([1,2,3,4])\n",
    "varadd = np.divide(var,3)\n",
    "\n",
    "print(varadd)"
   ]
  },
  {
   "cell_type": "markdown",
   "id": "c6c1ad87-d5a4-40d9-b86e-281871306759",
   "metadata": {},
   "source": [
    "### 5. Modulo"
   ]
  },
  {
   "cell_type": "code",
   "execution_count": 66,
   "id": "7143b271-a883-4607-9d49-615080d65fd9",
   "metadata": {},
   "outputs": [
    {
     "name": "stdout",
     "output_type": "stream",
     "text": [
      "[1 2 0 1]\n"
     ]
    }
   ],
   "source": [
    "# Using Expression\n",
    "\n",
    "var = np.array([1,2,3,4])\n",
    "varadd = var % 3\n",
    "\n",
    "print(varadd)"
   ]
  },
  {
   "cell_type": "code",
   "execution_count": 68,
   "id": "92782bff-91da-4c7e-9e69-05f85b64c162",
   "metadata": {},
   "outputs": [
    {
     "name": "stdout",
     "output_type": "stream",
     "text": [
      "[1 2 0 1]\n"
     ]
    }
   ],
   "source": [
    "# Using Function\n",
    "\n",
    "var = np.array([1,2,3,4])\n",
    "varadd = np.mod(var,3)\n",
    "\n",
    "print(varadd)"
   ]
  },
  {
   "cell_type": "markdown",
   "id": "503fdb57-18b0-4499-a7e7-d29f8153c1be",
   "metadata": {},
   "source": [
    "### 6. Power"
   ]
  },
  {
   "cell_type": "code",
   "execution_count": 82,
   "id": "68c01094-e5e6-4da7-8cb4-03beb2fa6cd8",
   "metadata": {},
   "outputs": [
    {
     "name": "stdout",
     "output_type": "stream",
     "text": [
      "[ 1  8 27 64]\n"
     ]
    }
   ],
   "source": [
    "# Using expression\n",
    "\n",
    "var = np.array([1,2,3,4])\n",
    "varadd = var**3\n",
    "\n",
    "print(varadd)"
   ]
  },
  {
   "cell_type": "code",
   "execution_count": 84,
   "id": "3c073b58-f05b-4287-84f1-94c6334ad328",
   "metadata": {},
   "outputs": [
    {
     "name": "stdout",
     "output_type": "stream",
     "text": [
      "[ 1  8 27 64]\n"
     ]
    }
   ],
   "source": [
    "# Using Function\n",
    "\n",
    "var = np.array([1,2,3,4])\n",
    "varadd = np.power(var,3)\n",
    "\n",
    "print(varadd)"
   ]
  },
  {
   "cell_type": "markdown",
   "id": "9982362c-68b6-447c-868f-67485c7ffd92",
   "metadata": {},
   "source": [
    "### 7. Reciprocal"
   ]
  },
  {
   "cell_type": "code",
   "execution_count": 97,
   "id": "1d08d0ad-7b85-49b7-8127-57734b0a9b61",
   "metadata": {},
   "outputs": [
    {
     "name": "stdout",
     "output_type": "stream",
     "text": [
      "[1 0 0 0]\n"
     ]
    }
   ],
   "source": [
    "# Using Expression\n",
    "\n",
    "var = np.array([1,2,3,4])\n",
    "varadd = 1//var\n",
    "\n",
    "print(varadd)"
   ]
  },
  {
   "cell_type": "code",
   "execution_count": 93,
   "id": "8a391264-d48b-4885-b6c1-a24d40fe9489",
   "metadata": {},
   "outputs": [
    {
     "name": "stdout",
     "output_type": "stream",
     "text": [
      "[1 0 0 0]\n"
     ]
    }
   ],
   "source": [
    "# Using Function\n",
    "\n",
    "var = np.array([1,2,3,4])\n",
    "varadd = np.reciprocal(var)\n",
    "\n",
    "print(varadd)"
   ]
  },
  {
   "cell_type": "markdown",
   "id": "ce5a8c5d-b25c-422e-9074-e3fb65c0601b",
   "metadata": {},
   "source": [
    "## For 2-Dimension Array"
   ]
  },
  {
   "cell_type": "code",
   "execution_count": 114,
   "id": "a4ded0cd-4cb8-40d2-a4ec-575698cf0265",
   "metadata": {},
   "outputs": [
    {
     "name": "stdout",
     "output_type": "stream",
     "text": [
      "[[2 4 6 8]\n",
      " [2 4 6 8]]\n"
     ]
    }
   ],
   "source": [
    "# Using Expression\n",
    "\n",
    "var21 = np.array([[1,2,3,4],[1,2,3,4]])\n",
    "var22 = np.array([[1,2,3,4],[1,2,3,4]])\n",
    "varadd = var21 + var22\n",
    "\n",
    "print(varadd)"
   ]
  },
  {
   "cell_type": "code",
   "execution_count": 112,
   "id": "3674d9a8-b87a-4150-93dc-c6109a8cd3e4",
   "metadata": {},
   "outputs": [
    {
     "name": "stdout",
     "output_type": "stream",
     "text": [
      "[[2 4 6 8]\n",
      " [2 4 6 8]]\n"
     ]
    }
   ],
   "source": [
    "# Using function\n",
    "\n",
    "var21 = np.array([[1,2,3,4],[1,2,3,4]])\n",
    "var22 = np.array([[1,2,3,4],[1,2,3,4]])\n",
    "\n",
    "varadd = np.add(var21,var22)\n",
    "\n",
    "print(varadd)"
   ]
  },
  {
   "cell_type": "code",
   "execution_count": null,
   "id": "f4bc4ad7-466f-4ffb-8fea-13e67307cd76",
   "metadata": {},
   "outputs": [],
   "source": []
  }
 ],
 "metadata": {
  "kernelspec": {
   "display_name": "Python [conda env:base] *",
   "language": "python",
   "name": "conda-base-py"
  },
  "language_info": {
   "codemirror_mode": {
    "name": "ipython",
    "version": 3
   },
   "file_extension": ".py",
   "mimetype": "text/x-python",
   "name": "python",
   "nbconvert_exporter": "python",
   "pygments_lexer": "ipython3",
   "version": "3.12.7"
  }
 },
 "nbformat": 4,
 "nbformat_minor": 5
}
