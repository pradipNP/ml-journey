{
 "cells": [
  {
   "cell_type": "markdown",
   "id": "a37ef1df-084d-4c36-b534-67f005d809c7",
   "metadata": {},
   "source": [
    "# Arithmetic Functions\n",
    "| Functions    |\n",
    "|--------------|\n",
    "| np.min(x)    |\n",
    "| np.max(x)    |\n",
    "| np.argmin(x) |\n",
    "| np.argmax(x) |\n",
    "| np.sqrt(x)   |\n",
    "| np.sin(x)    |\n",
    "| np.cos(x)    |\n",
    "| np.cumsum(x) |"
   ]
  },
  {
   "cell_type": "code",
   "execution_count": 4,
   "id": "e2ebc69c-2b7d-48c0-b80d-5e5f369a813f",
   "metadata": {},
   "outputs": [],
   "source": [
    "import numpy as np"
   ]
  },
  {
   "cell_type": "markdown",
   "id": "e7ad4579-8e20-4685-ae44-29389c87cd89",
   "metadata": {},
   "source": [
    "### 1. Minimum and Maximum"
   ]
  },
  {
   "cell_type": "code",
   "execution_count": 15,
   "id": "5a513b7f-4a02-4396-85d8-830aa1c2f45d",
   "metadata": {},
   "outputs": [
    {
     "name": "stdout",
     "output_type": "stream",
     "text": [
      "minimum:  1\n",
      "maximum:  5\n"
     ]
    }
   ],
   "source": [
    "var = np.array([2,1,3,4,5,3,2])\n",
    "\n",
    "print(\"minimum: \",np.min(var))\n",
    "print(\"maximum: \",np.max(var))"
   ]
  },
  {
   "cell_type": "markdown",
   "id": "b69af82d-71cf-420e-9a2e-f17611408a51",
   "metadata": {},
   "source": [
    "### 2. Position of Minimum and Maximum"
   ]
  },
  {
   "cell_type": "code",
   "execution_count": 18,
   "id": "887332b5-6a51-4b8e-8669-763a19c8a1e7",
   "metadata": {},
   "outputs": [
    {
     "name": "stdout",
     "output_type": "stream",
     "text": [
      "minimum:  1\n",
      "maximum:  4\n"
     ]
    }
   ],
   "source": [
    "print(\"minimum: \",np.argmin(var))\n",
    "print(\"maximum: \",np.argmax(var))"
   ]
  },
  {
   "cell_type": "code",
   "execution_count": 24,
   "id": "8a6cccb2-1b81-4fa3-857c-44c735bf08f9",
   "metadata": {},
   "outputs": [
    {
     "name": "stdout",
     "output_type": "stream",
     "text": [
      "[2 1 3]\n"
     ]
    }
   ],
   "source": [
    "# For 2-D \n",
    "\n",
    "var1 = np.array([[2,1,3],[9,5,6]])\n",
    "print(np.min(var1,axis=0))   # Axis=0 works with Column "
   ]
  },
  {
   "cell_type": "code",
   "execution_count": 28,
   "id": "b69ea45e-52af-4769-baa6-ba519b5aafc3",
   "metadata": {},
   "outputs": [
    {
     "name": "stdout",
     "output_type": "stream",
     "text": [
      "[1 5]\n"
     ]
    }
   ],
   "source": [
    "print(np.min(var1,axis=1)) # Axis=1 works with Rows"
   ]
  },
  {
   "cell_type": "markdown",
   "id": "2aecad19-1a29-41e7-8e22-556256f39a5a",
   "metadata": {},
   "source": [
    "### 3. Square Root"
   ]
  },
  {
   "cell_type": "code",
   "execution_count": 31,
   "id": "20cdd778-70c3-489c-bfef-77bf85899d6c",
   "metadata": {},
   "outputs": [
    {
     "name": "stdout",
     "output_type": "stream",
     "text": [
      "square root: [1.41421356 1.         1.73205081 2.         2.23606798 1.73205081\n",
      " 1.41421356]\n"
     ]
    }
   ],
   "source": [
    "print(\"square root:\", np.sqrt(var))"
   ]
  },
  {
   "cell_type": "markdown",
   "id": "d1bb900c-a3e8-4121-91f0-f689d72126e6",
   "metadata": {},
   "source": [
    "### 4. Sin and Cos"
   ]
  },
  {
   "cell_type": "code",
   "execution_count": 34,
   "id": "f19bad4a-60cf-4cfd-b05b-0ab809012284",
   "metadata": {},
   "outputs": [
    {
     "name": "stdout",
     "output_type": "stream",
     "text": [
      "[ 0.84147098 -0.98803162  0.41211849]\n",
      "[ 0.54030231  0.15425145 -0.91113026]\n"
     ]
    }
   ],
   "source": [
    "var2 = np.array([1,30,9])\n",
    "\n",
    "print(np.sin(var2))\n",
    "print(np.cos(var2))"
   ]
  },
  {
   "cell_type": "markdown",
   "id": "e4bfcfd8-b0cf-4725-936b-75d9f7b60902",
   "metadata": {},
   "source": [
    "### 5. Cumsum"
   ]
  },
  {
   "cell_type": "code",
   "execution_count": 39,
   "id": "54fbc285-8f29-4a5d-ba4b-f3fe96c7bccc",
   "metadata": {},
   "outputs": [
    {
     "name": "stdout",
     "output_type": "stream",
     "text": [
      "[ 1 31 40]\n"
     ]
    }
   ],
   "source": [
    "print(np.cumsum(var2)) # It works as first same value then add this to 2nd value then the added value add with another value like 1, then add to 30 = 31, now 31 add to 9=40"
   ]
  },
  {
   "cell_type": "code",
   "execution_count": null,
   "id": "f91f669b-9cc2-4893-ba08-1e7e3deb6425",
   "metadata": {},
   "outputs": [],
   "source": []
  }
 ],
 "metadata": {
  "kernelspec": {
   "display_name": "Python [conda env:base] *",
   "language": "python",
   "name": "conda-base-py"
  },
  "language_info": {
   "codemirror_mode": {
    "name": "ipython",
    "version": 3
   },
   "file_extension": ".py",
   "mimetype": "text/x-python",
   "name": "python",
   "nbconvert_exporter": "python",
   "pygments_lexer": "ipython3",
   "version": "3.12.7"
  }
 },
 "nbformat": 4,
 "nbformat_minor": 5
}
