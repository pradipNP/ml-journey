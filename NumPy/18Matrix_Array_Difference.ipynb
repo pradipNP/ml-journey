{
 "cells": [
  {
   "cell_type": "markdown",
   "id": "0a0e22a9-c322-4d16-b403-e14ca9a06185",
   "metadata": {},
   "source": [
    "<img src=\"Images/matrix_array.png\" alt=\"Matrix Array Image\" width=800/>"
   ]
  },
  {
   "cell_type": "markdown",
   "id": "135372e4-24ad-4bde-8621-1c9f9f6eef09",
   "metadata": {},
   "source": [
    "# Matrix :- \n",
    "- Addition"
   ]
  },
  {
   "cell_type": "code",
   "execution_count": 27,
   "id": "2a20ef27-e515-4766-843d-37f0f5162301",
   "metadata": {},
   "outputs": [
    {
     "name": "stdout",
     "output_type": "stream",
     "text": [
      "[[2 4]\n",
      " [2 4]]\n"
     ]
    }
   ],
   "source": [
    "import numpy as np\n",
    "\n",
    "var = np.matrix([[1,2],[1,2]])\n",
    "var2 = np.matrix([[1,2],[1,2]])\n",
    "\n",
    "print(var+var2)"
   ]
  },
  {
   "cell_type": "markdown",
   "id": "53818f1b-5b52-4f37-b349-b9f7d5575fc2",
   "metadata": {},
   "source": [
    "- Subtraction"
   ]
  },
  {
   "cell_type": "code",
   "execution_count": 32,
   "id": "dd32bbbf-c747-48ef-a100-5bd0e5e127ca",
   "metadata": {},
   "outputs": [
    {
     "name": "stdout",
     "output_type": "stream",
     "text": [
      "[[0 0]\n",
      " [0 0]]\n"
     ]
    }
   ],
   "source": [
    "print(var-var2)"
   ]
  },
  {
   "cell_type": "markdown",
   "id": "0bf578ed-176e-4c1e-a075-d74a2a1453f3",
   "metadata": {},
   "source": [
    "- Multiplication"
   ]
  },
  {
   "cell_type": "code",
   "execution_count": 51,
   "id": "100b54e8-21c8-4a62-865a-2736a8bffa54",
   "metadata": {},
   "outputs": [
    {
     "name": "stdout",
     "output_type": "stream",
     "text": [
      "[[3 6]\n",
      " [3 6]]\n",
      "\n",
      "[[3 6]\n",
      " [3 6]]\n"
     ]
    }
   ],
   "source": [
    "print(var*var2) \n",
    "\n",
    "# or\n",
    "\n",
    "print()\n",
    "print(var.dot(var2))"
   ]
  },
  {
   "cell_type": "markdown",
   "id": "4dfb6d0e-fcb4-4dbb-af1b-7b8036f90fb2",
   "metadata": {},
   "source": [
    "# Array :- \n",
    "- Multiplication"
   ]
  },
  {
   "cell_type": "code",
   "execution_count": 54,
   "id": "f2389073-7ef3-4c4d-99e8-17cbe81faaa6",
   "metadata": {},
   "outputs": [
    {
     "name": "stdout",
     "output_type": "stream",
     "text": [
      "[[1 4]\n",
      " [1 4]]\n"
     ]
    }
   ],
   "source": [
    "var3 = np.array([[1,2],[1,2]])\n",
    "var4 = np.array([[1,2],[1,2]])\n",
    "\n",
    "print(var3*var4)"
   ]
  },
  {
   "cell_type": "markdown",
   "id": "165dbdff-265a-4902-9be8-502bbaa80797",
   "metadata": {},
   "source": [
    "- Addition"
   ]
  },
  {
   "cell_type": "code",
   "execution_count": 57,
   "id": "639e53c2-b1bf-4a87-94dd-7abd09e0d406",
   "metadata": {},
   "outputs": [
    {
     "name": "stdout",
     "output_type": "stream",
     "text": [
      "[[2 4]\n",
      " [2 4]]\n"
     ]
    }
   ],
   "source": [
    "print(var3+var4)"
   ]
  },
  {
   "cell_type": "markdown",
   "id": "d81bc0dd-51a7-408a-bac3-b122ab431153",
   "metadata": {},
   "source": [
    "- Substraction"
   ]
  },
  {
   "cell_type": "code",
   "execution_count": 60,
   "id": "2da3308a-eaa2-4093-919b-3e3adf768069",
   "metadata": {},
   "outputs": [
    {
     "name": "stdout",
     "output_type": "stream",
     "text": [
      "[[0 0]\n",
      " [0 0]]\n"
     ]
    }
   ],
   "source": [
    "print(var3-var4)"
   ]
  },
  {
   "cell_type": "code",
   "execution_count": null,
   "id": "8efabd4e-bc12-45cc-87ed-909064e207b8",
   "metadata": {},
   "outputs": [],
   "source": []
  }
 ],
 "metadata": {
  "kernelspec": {
   "display_name": "Python [conda env:base] *",
   "language": "python",
   "name": "conda-base-py"
  },
  "language_info": {
   "codemirror_mode": {
    "name": "ipython",
    "version": 3
   },
   "file_extension": ".py",
   "mimetype": "text/x-python",
   "name": "python",
   "nbconvert_exporter": "python",
   "pygments_lexer": "ipython3",
   "version": "3.12.7"
  }
 },
 "nbformat": 4,
 "nbformat_minor": 5
}
