{
 "cells": [
  {
   "cell_type": "markdown",
   "id": "d46dc454-266d-4541-8705-48bb3b9a1f01",
   "metadata": {},
   "source": [
    "# Broadcasting \n",
    "#### Broadcasting in NumPy is a powerful mechanism that allows arrays of different shapes to be used together in arithmetic operations.\n",
    "<div style=\"text-align: center;\">\n",
    "    <img src=\"broadcasting_array.png\" alt=\"My Image\" width=\"300\"/>\n",
    "</div>"
   ]
  },
  {
   "cell_type": "code",
   "execution_count": 1,
   "id": "bb0db18f-4b07-45d9-95e4-0bf7bc715919",
   "metadata": {},
   "outputs": [],
   "source": [
    "import numpy as np"
   ]
  },
  {
   "cell_type": "code",
   "execution_count": 9,
   "id": "775b4859-3475-4cae-b963-32d1abfba22a",
   "metadata": {},
   "outputs": [
    {
     "name": "stdout",
     "output_type": "stream",
     "text": [
      "(3,)\n",
      "[1 2 3]\n",
      "\n",
      "(3, 1)\n",
      "[[1]\n",
      " [2]\n",
      " [3]]\n",
      "\n"
     ]
    }
   ],
   "source": [
    "arr1 = np.array([1,2,3])\n",
    "print(arr1.shape)\n",
    "print(arr1)\n",
    "print()\n",
    "\n",
    "arr2 = np.array([[1],[2],[3]])\n",
    "print(arr2.shape)\n",
    "print(arr2)\n",
    "print()"
   ]
  },
  {
   "cell_type": "markdown",
   "id": "b248c2ac-eade-4712-b286-c76cf4d620da",
   "metadata": {},
   "source": [
    "#### Since the first array have shape (1x3) and the second array have shape (3x1),\n",
    "#### it means that 1 is present in the both array's shape, so we can now perform any operations on that.\n",
    "\n",
    "## For addition\n",
    "<div style=\"text-align: center;\">\n",
    "    <img src=\"broadcasting_addition.png\" alt=\"Broadcasting Addition Image\" width=\"300\"\n",
    "</div>"
   ]
  },
  {
   "cell_type": "code",
   "execution_count": 34,
   "id": "27d80b54-0654-4c29-ac05-4bccef8a8752",
   "metadata": {},
   "outputs": [
    {
     "name": "stdout",
     "output_type": "stream",
     "text": [
      "[[2 3 4]\n",
      " [3 4 5]\n",
      " [4 5 6]]\n",
      "\n",
      "(3, 3)\n"
     ]
    }
   ],
   "source": [
    "result = arr1 + arr2\n",
    "print(result)\n",
    "print()\n",
    "print(result.shape)"
   ]
  },
  {
   "cell_type": "markdown",
   "id": "5acc44b3-3712-4a75-9f1d-0dd817c6a372",
   "metadata": {},
   "source": [
    "### For (2x1) and (2x3): We can perform the operation because there is '1' present in between them"
   ]
  },
  {
   "cell_type": "code",
   "execution_count": 45,
   "id": "b4de1d98-a82b-48b9-b2b9-30eaccdd0882",
   "metadata": {},
   "outputs": [
    {
     "name": "stdout",
     "output_type": "stream",
     "text": [
      "(2, 1)\n",
      "(2, 3)\n",
      "\n",
      "[[2 3 4]\n",
      " [3 4 5]]\n"
     ]
    }
   ],
   "source": [
    "x = np.array([[1],[2]])\n",
    "print(x.shape)\n",
    "\n",
    "y = np.array([[1,2,3],[1,2,3]])\n",
    "print(y.shape)\n",
    "print()\n",
    "\n",
    "print(x+y)"
   ]
  },
  {
   "cell_type": "code",
   "execution_count": null,
   "id": "536198ae-0080-4e3f-ad32-52cac6f999c0",
   "metadata": {},
   "outputs": [],
   "source": []
  }
 ],
 "metadata": {
  "kernelspec": {
   "display_name": "Python [conda env:base] *",
   "language": "python",
   "name": "conda-base-py"
  },
  "language_info": {
   "codemirror_mode": {
    "name": "ipython",
    "version": 3
   },
   "file_extension": ".py",
   "mimetype": "text/x-python",
   "name": "python",
   "nbconvert_exporter": "python",
   "pygments_lexer": "ipython3",
   "version": "3.12.7"
  }
 },
 "nbformat": 4,
 "nbformat_minor": 5
}
