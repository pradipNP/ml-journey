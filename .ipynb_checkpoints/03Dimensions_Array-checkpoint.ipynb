{
 "cells": [
  {
   "cell_type": "markdown",
   "id": "6a990c3a-c4af-4430-9b49-3f6419171dc1",
   "metadata": {},
   "source": [
    "## Array"
   ]
  },
  {
   "cell_type": "code",
   "execution_count": 17,
   "id": "d1fff595-efdc-4ff7-b10f-ec4dd12f8108",
   "metadata": {},
   "outputs": [
    {
     "name": "stdout",
     "output_type": "stream",
     "text": [
      "[1 2 3 4 5]\n",
      "<class 'numpy.ndarray'>\n",
      "1\n"
     ]
    }
   ],
   "source": [
    "import numpy as np\n",
    "x = [1,2,3,4]\n",
    "\n",
    "y = np.array([1,2,3,4,5])\n",
    "print(y)\n",
    "print(type(y))\n",
    "\n",
    "print(y.ndim) # ndim is used to find the dimension of the array"
   ]
  },
  {
   "cell_type": "markdown",
   "id": "4e286583-3ce4-49e9-9c18-f0a56f323690",
   "metadata": {},
   "source": [
    "## List to Array"
   ]
  },
  {
   "cell_type": "code",
   "execution_count": 11,
   "id": "f4e86100-9d96-4810-9ba1-63beb7ad1d3d",
   "metadata": {},
   "outputs": [
    {
     "name": "stdin",
     "output_type": "stream",
     "text": [
      "enter:  1\n",
      "enter:  2\n",
      "enter:  3\n",
      "enter:  4\n"
     ]
    },
    {
     "name": "stdout",
     "output_type": "stream",
     "text": [
      "[1, 2, 3, 4]\n",
      "[1 2 3 4]\n"
     ]
    }
   ],
   "source": [
    "l = []\n",
    "\n",
    "for i in range(1,5):\n",
    "    int_l = int(input(\"enter: \"))\n",
    "    l.append(int_l)\n",
    "print(l) #prints the list\n",
    "print(np.array(l)) #converts the list into array"
   ]
  },
  {
   "cell_type": "markdown",
   "id": "fb67bc62-274e-4ff9-b592-9fb5d26549d9",
   "metadata": {},
   "source": [
    "## 2D Array"
   ]
  },
  {
   "cell_type": "code",
   "execution_count": 21,
   "id": "21707ea0-0d1c-4eb1-ac79-ceaeeade5cc1",
   "metadata": {},
   "outputs": [
    {
     "name": "stdout",
     "output_type": "stream",
     "text": [
      "[[1 2 3 4]\n",
      " [1 2 3 4]]\n",
      "2\n"
     ]
    }
   ],
   "source": [
    "ar2 = np.array([[1,2,3,4],[1,2,3,4]])\n",
    "print(ar2)\n",
    "print(ar2.ndim)"
   ]
  },
  {
   "cell_type": "markdown",
   "id": "d2b3fb89-13ca-44f7-91e7-01b4080ff5d0",
   "metadata": {},
   "source": [
    "## 3D Array"
   ]
  },
  {
   "cell_type": "code",
   "execution_count": 36,
   "id": "7d331eb3-43b3-4bb0-89b5-b1afff9606d2",
   "metadata": {},
   "outputs": [
    {
     "name": "stdout",
     "output_type": "stream",
     "text": [
      "[[[1 2 3 4]\n",
      "  [1 2 3 4]\n",
      "  [1 2 3 4]]]\n",
      "3\n"
     ]
    }
   ],
   "source": [
    "arr3 = np.array([[[1,2,3,4],[1,2,3,4],[1,2,3,4]]])\n",
    "print(arr3)\n",
    "print(arr3.ndim)"
   ]
  },
  {
   "cell_type": "markdown",
   "id": "d4bc46a6-1d9f-44fe-a998-444313984e22",
   "metadata": {},
   "source": [
    "## Multidimensional Array"
   ]
  },
  {
   "cell_type": "code",
   "execution_count": 43,
   "id": "e8a71be8-3e5b-48ab-83c5-08f376f2ac69",
   "metadata": {},
   "outputs": [
    {
     "name": "stdout",
     "output_type": "stream",
     "text": [
      "[[[[[[[[[[1 2 3 4]]]]]]]]]]\n",
      "10\n"
     ]
    }
   ],
   "source": [
    "arn = np.array([1,2,3,4],ndmin=10)\n",
    "print(arn)\n",
    "print(arn.ndim)"
   ]
  },
  {
   "cell_type": "code",
   "execution_count": null,
   "id": "c7d2f1c1-ca32-4c91-9be9-94c67fb96abd",
   "metadata": {},
   "outputs": [],
   "source": []
  }
 ],
 "metadata": {
  "kernelspec": {
   "display_name": "Python [conda env:base] *",
   "language": "python",
   "name": "conda-base-py"
  },
  "language_info": {
   "codemirror_mode": {
    "name": "ipython",
    "version": 3
   },
   "file_extension": ".py",
   "mimetype": "text/x-python",
   "name": "python",
   "nbconvert_exporter": "python",
   "pygments_lexer": "ipython3",
   "version": "3.12.7"
  }
 },
 "nbformat": 4,
 "nbformat_minor": 5
}
