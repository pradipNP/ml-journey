{
 "cells": [
  {
   "cell_type": "markdown",
   "id": "928b5685-43fd-4242-9757-f5de94cc069c",
   "metadata": {},
   "source": [
    "# Create NumPy Arrays with Random Numbers"
   ]
  },
  {
   "cell_type": "markdown",
   "id": "0021133f-acfc-42b0-9b06-e64738ca8c51",
   "metadata": {},
   "source": [
    "### 1. rand() : the function is used to generate a randomm value between 0 to 1."
   ]
  },
  {
   "cell_type": "code",
   "execution_count": 14,
   "id": "058e7977-db6b-48fa-830f-8a19ef942be4",
   "metadata": {},
   "outputs": [
    {
     "name": "stdout",
     "output_type": "stream",
     "text": [
      "[0.56875293 0.24758325 0.70625561 0.59165192]\n"
     ]
    }
   ],
   "source": [
    "import numpy as np\n",
    "\n",
    "# 1-D\n",
    "var = np.random.rand(4)  # 4 values of 1 Dimension array\n",
    "\n",
    "print(var)"
   ]
  },
  {
   "cell_type": "code",
   "execution_count": 16,
   "id": "04c87a75-505b-4251-81dd-fbc23ccb0cf8",
   "metadata": {},
   "outputs": [
    {
     "name": "stdout",
     "output_type": "stream",
     "text": [
      "[[0.48999063 0.69350247 0.08834164 0.6062308  0.60210631]\n",
      " [0.81433892 0.90566738 0.37939911 0.33607453 0.96617415]]\n"
     ]
    }
   ],
   "source": [
    "# 2-D\n",
    "var1 = np.random.rand(2,5)  # 2 dimensions of 5 random values\n",
    "print(var1)"
   ]
  },
  {
   "cell_type": "markdown",
   "id": "c6645107-a773-4a73-9f80-4800d0204e85",
   "metadata": {},
   "source": [
    "### 2. randn(): generate a random value close to zero either negative or positive."
   ]
  },
  {
   "cell_type": "code",
   "execution_count": 24,
   "id": "70ebee74-4296-4fad-adfe-c47d27002acb",
   "metadata": {},
   "outputs": [
    {
     "name": "stdout",
     "output_type": "stream",
     "text": [
      "[-1.7199715   3.12254392  1.11084195 -0.07733803 -0.01970291]\n"
     ]
    }
   ],
   "source": [
    "var2 = np.random.randn(5)\n",
    "print(var2)"
   ]
  },
  {
   "cell_type": "markdown",
   "id": "538a8822-2ebc-4a0b-9cbf-9be803a1f837",
   "metadata": {},
   "source": [
    "### 3. ranf(): returns an array of specified shape and fills it with random floats in the half open interval [0.0,1.0). Here, [ shows that 0.0 will include but ) shows that 1.0 is not included"
   ]
  },
  {
   "cell_type": "code",
   "execution_count": 27,
   "id": "09f46c30-1ffc-469d-b371-912ce302a012",
   "metadata": {},
   "outputs": [
    {
     "name": "stdout",
     "output_type": "stream",
     "text": [
      "[0.72261629 0.78995402 0.06015996 0.62218497]\n"
     ]
    }
   ],
   "source": [
    "var3 = np.random.ranf(4)\n",
    "print(var3)"
   ]
  },
  {
   "cell_type": "markdown",
   "id": "d02b6357-5b78-4c9e-bf48-a4e1f4a1a335",
   "metadata": {},
   "source": [
    "### 4. randint(): generate a random number between a given range by giving minimum and maximum number as parameter and also total number to generate."
   ]
  },
  {
   "cell_type": "code",
   "execution_count": 37,
   "id": "16f87cca-ddaf-4da9-8ed9-32c563ddb768",
   "metadata": {},
   "outputs": [
    {
     "name": "stdout",
     "output_type": "stream",
     "text": [
      "[ 5  7 11 19]\n"
     ]
    }
   ],
   "source": [
    "# np.random.randint(min,max,total_values)\n",
    "\n",
    "var4 = np.random.randint(5,20,4)\n",
    "print(var4)"
   ]
  },
  {
   "cell_type": "code",
   "execution_count": null,
   "id": "618732e1-1b95-463b-803d-e00e9f510ba9",
   "metadata": {},
   "outputs": [],
   "source": []
  }
 ],
 "metadata": {
  "kernelspec": {
   "display_name": "Python [conda env:base] *",
   "language": "python",
   "name": "conda-base-py"
  },
  "language_info": {
   "codemirror_mode": {
    "name": "ipython",
    "version": 3
   },
   "file_extension": ".py",
   "mimetype": "text/x-python",
   "name": "python",
   "nbconvert_exporter": "python",
   "pygments_lexer": "ipython3",
   "version": "3.12.7"
  }
 },
 "nbformat": 4,
 "nbformat_minor": 5
}
